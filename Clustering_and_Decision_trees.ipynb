{
  "cells": [
    {
      "cell_type": "markdown",
      "source": [
        "# **CMPSC497 Fall 2022 Programming Assignment 1.**\n",
        "\n",
        "Notebook and report by: Anish Phule"
      ],
      "metadata": {
        "id": "iSfl-DKz4nFK"
      },
      "id": "iSfl-DKz4nFK"
    },
    {
      "cell_type": "markdown",
      "source": [
        "# Task 1: Data Analysis\n",
        "\n",
        "In this section we examine the data and get a preliminary analysis of the data at hand."
      ],
      "metadata": {
        "id": "nrokl2Lr5EJb"
      },
      "id": "nrokl2Lr5EJb"
    },
    {
      "cell_type": "code",
      "execution_count": 2,
      "id": "6b5ddbf4-f75d-4eda-a991-fe7c36bd0945",
      "metadata": {
        "id": "6b5ddbf4-f75d-4eda-a991-fe7c36bd0945"
      },
      "outputs": [],
      "source": [
        "#Importing various libraries\n",
        "import pandas as pd\n",
        "import matplotlib.pyplot as plt\n",
        "import numpy as np\n",
        "from scipy.stats import chi2_contingency\n",
        "import operator\n",
        "from math import ceil "
      ]
    },
    {
      "cell_type": "code",
      "execution_count": 3,
      "id": "2be5943f-4bb3-494a-990f-a77546d6b678",
      "metadata": {
        "id": "2be5943f-4bb3-494a-990f-a77546d6b678"
      },
      "outputs": [],
      "source": [
        "#This makes all figures appear bigger in the notebook\n",
        "plt.rcParams['figure.figsize'] = [10, 5]"
      ]
    },
    {
      "cell_type": "code",
      "execution_count": 5,
      "id": "d4aa004a-6282-4d94-9783-b8e3c391e353",
      "metadata": {
        "id": "d4aa004a-6282-4d94-9783-b8e3c391e353"
      },
      "outputs": [],
      "source": [
        "#Reading the input csv file\n",
        "read_file = pd.read_csv (r'/content/credit cards-2022-post.csv')\n",
        "#read_file.to_excel (r'/Users/anishphule/Downloads/credit_cards.xlsx', index = None, header=True)"
      ]
    },
    {
      "cell_type": "markdown",
      "source": [
        "## Task 1(a): Unclear or Questionable attribute values:\n",
        "There are a few questionable/unclear values in the dataset. These values belong to attributes that are supposed to be within a certain range, but exceed them. For example, in the 'Education' attribute, the values are supposed to be [1,2,3,4] but some times they exceed the limits. For some of the Pay_n attributes, the values are 0, -1, and -2, which can make things very confusing, and they actually give us the same information. -1 represents that no amount is due, but 0 also denotes the same(amount is due for 0 months), and -2 was a questionable value, which upon further examination seemed to arrive in cases where there was a possible refund from the company or the person paid more than the actual bill. In any of these cases, no amount is ctually due, so it makes sense to make all three 0.\n",
        "\n",
        "In case of the Education and Marriage attributes, if any value was out of bounds, I equated it to the nearest possible value. In case of Pay_n, any values less than 0 were equated to 0."
      ],
      "metadata": {
        "id": "zwrCGaRw5kIc"
      },
      "id": "zwrCGaRw5kIc"
    },
    {
      "cell_type": "code",
      "execution_count": 6,
      "id": "7702cb69-f9e9-4367-ac0d-d9c2f469ee6c",
      "metadata": {
        "id": "7702cb69-f9e9-4367-ac0d-d9c2f469ee6c"
      },
      "outputs": [],
      "source": [
        "for index, row in read_file.iterrows():\n",
        "    if (row['EDUCATION'] < 1):\n",
        "        row['EDUCATION'] = 1\n",
        "    elif (row['EDUCATION'] >4):\n",
        "        row['EDUCATION'] = 4\n",
        "    if (row['MARRIAGE'] < 1):\n",
        "        row['MARRIAGE'] = 1"
      ]
    },
    {
      "cell_type": "code",
      "execution_count": 7,
      "id": "19e98a7a-515f-40ec-8d87-5cafa23aad96",
      "metadata": {
        "id": "19e98a7a-515f-40ec-8d87-5cafa23aad96"
      },
      "outputs": [],
      "source": [
        "pay_list = ['PAY_0','PAY_2','PAY_3','PAY_4','PAY_5','PAY_6']\n",
        "for index, row in read_file.iterrows():\n",
        "    for i in range(len(pay_list)):\n",
        "        if (row[pay_list[i]] < 0):\n",
        "            row[pay_list[i]] = 0"
      ]
    },
    {
      "cell_type": "markdown",
      "source": [
        "## Task 1(b): Missing Values:\n",
        "\n",
        "There also are instances of values completely missing. While questionable values are result of human error or error in data collection, missing values are just loss of data. In our case, Some data entries have all BILL_AMT values 0. This cannot be true, since credit card usage has to have some bill amount. There don't seem to be a lot of these, hence we can safely remove any such data entries, and they won't be of any consequence to our result anyways."
      ],
      "metadata": {
        "id": "HB0VG0wd7ZQh"
      },
      "id": "HB0VG0wd7ZQh"
    },
    {
      "cell_type": "code",
      "execution_count": 8,
      "id": "5e15744b-082c-45f9-ab49-d6124ea6324f",
      "metadata": {
        "id": "5e15744b-082c-45f9-ab49-d6124ea6324f"
      },
      "outputs": [],
      "source": [
        "#Removing data points with missing values.\n",
        "bill_amt = ['BILL_AMT1','BILL_AMT2','BILL_AMT3','BILL_AMT4','BILL_AMT5','BILL_AMT6']\n",
        "for index, row in read_file.iterrows():\n",
        "    bill_sum = 0\n",
        "    for i in range(6):\n",
        "        bill_sum += row[bill_amt[i]] #we sum the bill amounts to check if they are 0 or not\n",
        "    if bill_sum == 0:\n",
        "        read_file = read_file.drop(labels=index, axis=0)#we remove any rows that sum up to 0\n",
        "        \n",
        "read_file = read_file.reset_index()\n",
        "#read_file.to_excel (r'/Users/anishphule/Downloads/credit_cards.xlsx', index = None, header=True)"
      ]
    },
    {
      "cell_type": "markdown",
      "source": [
        "## Task 1(c): Summary Satistics:\n",
        "\n",
        "The following section calculates and displays various summary statistics for the target class 'DEFAULT'. It also dislays the distribution plot of the various class labels in the same.\n",
        "\n",
        "Since the class labels are either 0 or 1, the lesser mean value would indicate there is a class imbalance in the dataset. The frequency statistic, mode and the bar chart all indicate the same. The class label 0 is in much more majority than the class label 1, meaning most of the customers are not defaulters."
      ],
      "metadata": {
        "id": "RLHrrUpm848l"
      },
      "id": "RLHrrUpm848l"
    },
    {
      "cell_type": "code",
      "execution_count": 9,
      "id": "28d04cce-ea44-4f25-9f3b-193416b89ffc",
      "metadata": {
        "colab": {
          "base_uri": "https://localhost:8080/"
        },
        "id": "28d04cce-ea44-4f25-9f3b-193416b89ffc",
        "outputId": "fd683d3e-e3c3-4c0c-9c93-a65eca3e7a5f"
      },
      "outputs": [
        {
          "output_type": "stream",
          "name": "stdout",
          "text": [
            "Summary Statistics of DEFAULT class\n",
            "count    23291.000000\n",
            "mean         0.218625\n",
            "std          0.413323\n",
            "min          0.000000\n",
            "25%          0.000000\n",
            "50%          0.000000\n",
            "75%          0.000000\n",
            "max          1.000000\n",
            "Name: default payment next month, dtype: float64\n",
            "mode  0\n",
            "Frequency \n",
            " 0    18199\n",
            "1     5092\n",
            "Name: default payment next month, dtype: int64\n"
          ]
        }
      ],
      "source": [
        "#Describe various kinds of summary statistics for the default class\n",
        "default_class = read_file['default payment next month']\n",
        "print('Summary Statistics of DEFAULT class')\n",
        "print(default_class.describe(include='all'))\n",
        "print('mode ', default_class.value_counts().idxmax())\n",
        "print('Frequency \\n', default_class.value_counts())"
      ]
    },
    {
      "cell_type": "code",
      "execution_count": 10,
      "id": "264aa3ad-8a1f-4e27-97cc-23a2e977c45c",
      "metadata": {
        "colab": {
          "base_uri": "https://localhost:8080/",
          "height": 330
        },
        "id": "264aa3ad-8a1f-4e27-97cc-23a2e977c45c",
        "outputId": "2c8e03ad-c10c-4e1a-82aa-c3efe4b65656"
      },
      "outputs": [
        {
          "output_type": "display_data",
          "data": {
            "text/plain": [
              "<Figure size 720x360 with 1 Axes>"
            ],
            "image/png": "[encoded data removed]"
          },
          "metadata": {
            "needs_background": "light"
          }
        }
      ],
      "source": [
        "#Plotting the default class distribution with Matplotlib\n",
        "default_class.value_counts().plot(kind=\"bar\", color=['purple', 'orange'])\n",
        "plt.xlabel('Class Labels')\n",
        "plt.ylabel('Label Count')\n",
        "plt.show()"
      ]
    },
    {
      "cell_type": "markdown",
      "source": [
        "# Task 2:"
      ],
      "metadata": {
        "id": "uiqkXqxV-87-"
      },
      "id": "uiqkXqxV-87-"
    },
    {
      "cell_type": "markdown",
      "source": [
        "## Task 2(a): Summary Statistics for BILL_AMTs\n",
        "\n",
        "The follwing block shows the summary statistics for each of the BILL_AMT attributes"
      ],
      "metadata": {
        "id": "ug1b8FWt_Izc"
      },
      "id": "ug1b8FWt_Izc"
    },
    {
      "cell_type": "code",
      "execution_count": 11,
      "id": "6fcc0176-2b00-45cb-ab46-d09f27e9e154",
      "metadata": {
        "colab": {
          "base_uri": "https://localhost:8080/"
        },
        "id": "6fcc0176-2b00-45cb-ab46-d09f27e9e154",
        "outputId": "d726fb36-0e58-4afe-a0ec-a6c65221cc16"
      },
      "outputs": [
        {
          "output_type": "stream",
          "name": "stdout",
          "text": [
            "Summary Statistics of BILL_AMT1\n",
            "count     23291.000000\n",
            "mean      52616.001116\n",
            "std       73512.658400\n",
            "min     -165580.000000\n",
            "25%        4533.000000\n",
            "50%       24464.000000\n",
            "75%       69395.000000\n",
            "max      746814.000000\n",
            "Name: BILL_AMT1, dtype: float64\n",
            "mode  0\n",
            "Frequency \n",
            " 0         919\n",
            "390       196\n",
            "780        63\n",
            "326        62\n",
            "316        53\n",
            "         ... \n",
            "76917       1\n",
            "20936       1\n",
            "321281      1\n",
            "102505      1\n",
            "156449      1\n",
            "Name: BILL_AMT1, Length: 18697, dtype: int64 \n",
            "\n",
            "Summary Statistics of BILL_AMT2\n",
            "count     23291.000000\n",
            "mean      50627.803615\n",
            "std       71454.291610\n",
            "min      -69777.000000\n",
            "25%        3904.500000\n",
            "50%       23255.000000\n",
            "75%       66347.000000\n",
            "max      743970.000000\n",
            "Name: BILL_AMT2, dtype: float64\n",
            "mode  0\n",
            "Frequency \n",
            " 0         1287\n",
            "390        190\n",
            "780         65\n",
            "326         63\n",
            "316         62\n",
            "          ... \n",
            "2638         1\n",
            "30138        1\n",
            "91782        1\n",
            "17816        1\n",
            "162377       1\n",
            "Name: BILL_AMT2, Length: 18344, dtype: int64 \n",
            "\n",
            "Summary Statistics of BILL_AMT3\n",
            "count    2.329100e+04\n",
            "mean     4.855746e+04\n",
            "std      7.007370e+04\n",
            "min     -1.572640e+05\n",
            "25%      3.630500e+03\n",
            "50%      2.157900e+04\n",
            "75%      6.268050e+04\n",
            "max      1.664089e+06\n",
            "Name: BILL_AMT3, dtype: float64\n",
            "mode  0\n",
            "Frequency \n",
            " 0         1582\n",
            "390        223\n",
            "780         68\n",
            "326         55\n",
            "316         53\n",
            "          ... \n",
            "6291         1\n",
            "68412        1\n",
            "16057        1\n",
            "171865       1\n",
            "174501       1\n",
            "Name: BILL_AMT3, Length: 18115, dtype: int64 \n",
            "\n",
            "Summary Statistics of BILL_AMT4\n",
            "count     23291.000000\n",
            "mean      44591.152591\n",
            "std       64559.517306\n",
            "min     -170000.000000\n",
            "25%        3059.500000\n",
            "50%       19836.000000\n",
            "75%       56999.500000\n",
            "max      706864.000000\n",
            "Name: BILL_AMT4, dtype: float64\n",
            "mode  0\n",
            "Frequency \n",
            " 0         1856\n",
            "390        200\n",
            "780         86\n",
            "316         58\n",
            "326         54\n",
            "          ... \n",
            "42380        1\n",
            "19521        1\n",
            "34653        1\n",
            "23305        1\n",
            "155355       1\n",
            "Name: BILL_AMT4, Length: 17718, dtype: int64 \n",
            "\n",
            "Summary Statistics of BILL_AMT5\n",
            "count     23291.000000\n",
            "mean      41465.507793\n",
            "std       60911.270475\n",
            "min      -81334.000000\n",
            "25%        2400.000000\n",
            "50%       18936.000000\n",
            "75%       51510.500000\n",
            "max      823540.000000\n",
            "Name: BILL_AMT5, dtype: float64\n",
            "mode  0\n",
            "Frequency \n",
            " 0         2103\n",
            "390        185\n",
            "780         72\n",
            "316         71\n",
            "326         54\n",
            "          ... \n",
            "15705        1\n",
            "37647        1\n",
            "19090        1\n",
            "80000        1\n",
            "129942       1\n",
            "Name: BILL_AMT5, Length: 17332, dtype: int64 \n",
            "\n",
            "Summary Statistics of BILL_AMT6\n",
            "count     23291.000000\n",
            "mean      40080.545833\n",
            "std       59736.606836\n",
            "min     -209051.000000\n",
            "25%        1800.000000\n",
            "50%       18149.000000\n",
            "75%       50265.500000\n",
            "max      699944.000000\n",
            "Name: BILL_AMT6, dtype: float64\n",
            "mode  0\n",
            "Frequency \n",
            " 0         2517\n",
            "390        166\n",
            "780         69\n",
            "316         66\n",
            "150         55\n",
            "          ... \n",
            "3545         1\n",
            "58355        1\n",
            "70849        1\n",
            "98753        1\n",
            "118202       1\n",
            "Name: BILL_AMT6, Length: 16982, dtype: int64 \n",
            "\n"
          ]
        }
      ],
      "source": [
        "#Summary statistics of all the BILL_AMTs\n",
        "bill_amt = ['BILL_AMT1','BILL_AMT2','BILL_AMT3','BILL_AMT4','BILL_AMT5','BILL_AMT6']\n",
        "for i in range(6):\n",
        "    current_bill = read_file[bill_amt[i]]\n",
        "    print('Summary Statistics of', bill_amt[i])\n",
        "    print(current_bill.describe(include='all'))\n",
        "    print('mode ', current_bill.value_counts().idxmax())\n",
        "    print('Frequency \\n', current_bill.value_counts(),'\\n')"
      ]
    },
    {
      "cell_type": "markdown",
      "source": [
        "## Task 2(b): Box Plot of BILL_AMT attributes"
      ],
      "metadata": {
        "id": "c80G4yKRAFl7"
      },
      "id": "c80G4yKRAFl7"
    },
    {
      "cell_type": "code",
      "execution_count": 12,
      "id": "3bbb63af-27ab-4e77-b29a-3e554f16ee84",
      "metadata": {
        "colab": {
          "base_uri": "https://localhost:8080/",
          "height": 336
        },
        "id": "3bbb63af-27ab-4e77-b29a-3e554f16ee84",
        "outputId": "52724e5d-52cc-41c7-f41f-8058ca80afad"
      },
      "outputs": [
        {
          "output_type": "display_data",
          "data": {
            "text/plain": [
              "<Figure size 720x360 with 1 Axes>"
            ],
            "image/png": "[encoded data removed]"
          },
          "metadata": {
            "needs_background": "light"
          }
        }
      ],
      "source": [
        "bill_amt = ['BILL_AMT1','BILL_AMT2','BILL_AMT3','BILL_AMT4','BILL_AMT5','BILL_AMT6']\n",
        "#current_bill = read_file[bill_amt[i]]\n",
        "plt.boxplot([read_file[bill_amt[0]],read_file[bill_amt[1]],read_file[bill_amt[2]],\n",
        "             read_file[bill_amt[3]],read_file[bill_amt[4]],read_file[bill_amt[5]]])\n",
        "plt.title('Box plot')\n",
        "plt.show()  "
      ]
    },
    {
      "cell_type": "markdown",
      "source": [
        "## Task 2(c): Findings from 2a and 2b\n",
        "\n",
        "From the above two tasks, We can summarize that ignoring the outliers, most of the values in the amounts lie in the (-1.5e6 to 50,000) range. BILL_AMT1 has relative the most spread(in the 25th to 75th percentile range), while BILL_AMT6 has the least spread. The most frequent value remains to be 0, meaning most of the customers for a certain period have 0 bill value. "
      ],
      "metadata": {
        "id": "bZoKelGLAjzJ"
      },
      "id": "bZoKelGLAjzJ"
    },
    {
      "cell_type": "markdown",
      "source": [
        "# Task 3"
      ],
      "metadata": {
        "id": "NnI1iuScCj_n"
      },
      "id": "NnI1iuScCj_n"
    },
    {
      "cell_type": "markdown",
      "source": [
        "## Task 3(a): Characteristics and Differences between Chi-Square and Mutual Information.\n",
        "\n",
        "The following points characterise Chi-Square and Mutual information as well point our some of their differences:\n",
        "\n",
        "1.   Chi-Square statistic summarizes the 'difference' between various classes and the expected frequencies, whereas Mutual Information summrizes the 'dependence' between an attributes.\n",
        "2.   The Chi-Square uses Pearson's Chi-Squared Test, whereas Mutual Information uses Kullback–Leibler divergence.\n",
        "3. Chi-Square test pertains to attributes that are Categorical in nature, while Mutual Information pertains to attributes that are numerical in Nature.\n",
        "\n"
      ],
      "metadata": {
        "id": "1w3DIcU4CrtL"
      },
      "id": "1w3DIcU4CrtL"
    },
    {
      "cell_type": "markdown",
      "source": [
        "## Task 3(b): With Respect to our Dataset.\n",
        "\n",
        "We need to employ Chi-Square and Mutual information on our dataset for feature Selection. However, we cannot just apply it on all features and expect to do a proper feature selection. This is beacuse not all attributes are of the same nature and not all attributes are suited for either of the methods. Chi-Squared test takes in only categorical attributes, while Mutual Information takes in only Numerical Attributes. Our dataset too contains these kinds. For example, the SEX and EDUCATION attributes are categorical, since they represent other categories, while attributes like BILL_AMTs are numerical and their given values are to be considered. Hence, we first need to segregate these attributes, and then aplly the tests on the respective lists."
      ],
      "metadata": {
        "id": "td-g_pEDFg4S"
      },
      "id": "td-g_pEDFg4S"
    },
    {
      "cell_type": "code",
      "execution_count": 13,
      "id": "e0c07c4b-010c-4be4-8d22-70de5e9953b0",
      "metadata": {
        "id": "e0c07c4b-010c-4be4-8d22-70de5e9953b0"
      },
      "outputs": [],
      "source": [
        "#Importing mutual info and chi square library\n",
        "from sklearn.feature_selection import mutual_info_classif, chi2"
      ]
    },
    {
      "cell_type": "markdown",
      "source": [
        "## Task 3(c): Employing Chi-Square Test and Mutual Information\n",
        "\n",
        "In this section, we create two lists, Categorical and Numerical. These contain the attribute names of respective kinds of attributes. We them employ respective tests and create a ranked list for each of them. We also display the top 3 and bottom 3 ranked attributes after each employment of test."
      ],
      "metadata": {
        "id": "OJXIaKw8IOOQ"
      },
      "id": "OJXIaKw8IOOQ"
    },
    {
      "cell_type": "code",
      "execution_count": 14,
      "id": "6a1d01e3-9c96-4bae-9e0b-a61e19c64774",
      "metadata": {
        "colab": {
          "base_uri": "https://localhost:8080/"
        },
        "id": "6a1d01e3-9c96-4bae-9e0b-a61e19c64774",
        "outputId": "ea212498-74aa-4085-b0cf-80528a752ef2"
      },
      "outputs": [
        {
          "output_type": "stream",
          "name": "stdout",
          "text": [
            "PAY_0        6396.578170\n",
            "PAY_2        5434.451564\n",
            "PAY_3        4177.859337\n",
            "PAY_5        4104.266719\n",
            "PAY_4        4035.664064\n",
            "PAY_6        3429.280820\n",
            "EDUCATION      10.363865\n",
            "SEX             4.528088\n",
            "MARRIAGE        1.552130\n",
            "dtype: float64\n"
          ]
        }
      ],
      "source": [
        "#Creating a list of categorical attributes\n",
        "categorical = ['SEX','EDUCATION','MARRIAGE','PAY_0','PAY_2','PAY_3','PAY_4','PAY_5','PAY_6']\n",
        "X = read_file[categorical]\n",
        "Y = read_file['default payment next month']\n",
        "#Applying chi-sqaured test and displaying in descending order\n",
        "chi_score2 = chi2(X,Y)\n",
        "chi_score2 = pd.Series(chi_score2[0], index = X.columns)\n",
        "print(chi_score2.sort_values(ascending = False))"
      ]
    },
    {
      "cell_type": "code",
      "execution_count": 15,
      "id": "0102749f-f36e-44ac-88c8-142765146303",
      "metadata": {
        "colab": {
          "base_uri": "https://localhost:8080/"
        },
        "id": "0102749f-f36e-44ac-88c8-142765146303",
        "outputId": "ea6df5b4-efa2-4b14-bdc6-9b93f9094cc9"
      },
      "outputs": [
        {
          "output_type": "stream",
          "name": "stdout",
          "text": [
            "3 features with highest Chi Square scores:\n",
            " PAY_0    6396.578170\n",
            "PAY_2    5434.451564\n",
            "PAY_3    4177.859337\n",
            "dtype: float64 \n",
            "\n",
            "3 features with lowest Chi Square scores:\n",
            " MARRIAGE      1.552130\n",
            "SEX           4.528088\n",
            "EDUCATION    10.363865\n",
            "dtype: float64\n"
          ]
        }
      ],
      "source": [
        "#We display the top 3 and Bottom 3 features\n",
        "chi_score2 = chi_score2.sort_values(ascending = False)\n",
        "print('3 features with highest Chi Square scores:\\n',chi_score2.nlargest(n=3, keep='first'),'\\n')\n",
        "print('3 features with lowest Chi Square scores:\\n',chi_score2.nsmallest(n=3, keep='first'))"
      ]
    },
    {
      "cell_type": "code",
      "execution_count": 16,
      "id": "3e570c25-c1ce-43dc-a066-31db8bc80b92",
      "metadata": {
        "colab": {
          "base_uri": "https://localhost:8080/"
        },
        "id": "3e570c25-c1ce-43dc-a066-31db8bc80b92",
        "outputId": "c612f1fa-941f-42e9-9de8-4afd07a9ffd8"
      },
      "outputs": [
        {
          "output_type": "stream",
          "name": "stdout",
          "text": [
            "PAY_AMT1     0.024063\n",
            "LIMIT_BAL    0.017952\n",
            "PAY_AMT2     0.015880\n",
            "PAY_AMT3     0.014342\n",
            "PAY_AMT6     0.012941\n",
            "PAY_AMT4     0.012415\n",
            "PAY_AMT5     0.010674\n",
            "BILL_AMT2    0.008620\n",
            "BILL_AMT5    0.008314\n",
            "BILL_AMT1    0.008071\n",
            "BILL_AMT3    0.005633\n",
            "BILL_AMT4    0.004929\n",
            "BILL_AMT6    0.003412\n",
            "AGE          0.002878\n",
            "dtype: float64\n",
            "\n",
            "\n"
          ]
        }
      ],
      "source": [
        "#Creating a list of numerical attributes\n",
        "Numerical = ['LIMIT_BAL','AGE','BILL_AMT1','BILL_AMT2','BILL_AMT3','BILL_AMT4',\n",
        "             'BILL_AMT5','BILL_AMT6','PAY_AMT1','PAY_AMT2','PAY_AMT3','PAY_AMT4',\n",
        "             'PAY_AMT5','PAY_AMT6']\n",
        "X = read_file[Numerical]\n",
        "Y = read_file['default payment next month']\n",
        "#Applying Mutual Information and displaying in descending order\n",
        "result = mutual_info_classif(X, Y, random_state = 100)\n",
        "result = pd.Series(result,index = X.columns)\n",
        "print(result.sort_values(ascending = False))\n",
        "print('\\n')"
      ]
    },
    {
      "cell_type": "code",
      "execution_count": 17,
      "id": "3494c72b-e971-4352-90eb-6885a7059175",
      "metadata": {
        "colab": {
          "base_uri": "https://localhost:8080/"
        },
        "id": "3494c72b-e971-4352-90eb-6885a7059175",
        "outputId": "26791014-f14c-4e61-a05d-2b3c93e565f5"
      },
      "outputs": [
        {
          "output_type": "stream",
          "name": "stdout",
          "text": [
            "3 features with highest Mutual Info scores:\n",
            " PAY_AMT1     0.024063\n",
            "LIMIT_BAL    0.017952\n",
            "PAY_AMT2     0.015880\n",
            "dtype: float64 \n",
            "\n",
            "3 features with lowest Mutual Info scores:\n",
            " AGE          0.002878\n",
            "BILL_AMT6    0.003412\n",
            "BILL_AMT4    0.004929\n",
            "dtype: float64\n"
          ]
        }
      ],
      "source": [
        "#Displaying the top 3 and Bottom 3 features.\n",
        "result = result.sort_values(ascending = False)\n",
        "print('3 features with highest Mutual Info scores:\\n',result.nlargest(n=3, keep='first'),'\\n')\n",
        "print('3 features with lowest Mutual Info scores:\\n',result.nsmallest(n=3, keep='first'))"
      ]
    },
    {
      "cell_type": "markdown",
      "source": [
        "## Task 3(d): Plotting distributions\n",
        "\n",
        "We now plot distributions of:\n",
        "1. the highest ranked three categorical\n",
        "features\n",
        "2. the lowest ranked three categorical features\n",
        "3. the highest\n",
        "ranked three numerical features\n",
        "4. the lowest ranked three\n",
        "numerical features\n",
        "\n",
        "Description of the distribution and the ranked lists is at the end of all the plots."
      ],
      "metadata": {
        "id": "oGgNQ5SOJjgv"
      },
      "id": "oGgNQ5SOJjgv"
    },
    {
      "cell_type": "markdown",
      "source": [
        "### Lowest Ranked Categorical Features \n",
        "are Marriage, Sex and Education\n"
      ],
      "metadata": {
        "id": "mvsav1q1J-qW"
      },
      "id": "mvsav1q1J-qW"
    },
    {
      "cell_type": "code",
      "execution_count": 18,
      "id": "1dd13a66-d85d-4eb4-8a60-a88159d20998",
      "metadata": {
        "colab": {
          "base_uri": "https://localhost:8080/"
        },
        "id": "1dd13a66-d85d-4eb4-8a60-a88159d20998",
        "outputId": "a4bef23c-00f5-4415-f6ac-fe5770028837"
      },
      "outputs": [
        {
          "output_type": "stream",
          "name": "stdout",
          "text": [
            "   MARRIAGE  Counts\n",
            "1         1    8193\n",
            "0         2    9821\n",
            "2         3     185\n",
            "   MARRIAGE  Counts\n",
            "1         1    2431\n",
            "0         2    2596\n",
            "2         3      65\n",
            "   MARRIAGE  Counts\n",
            "1         1   10624\n",
            "0         2   12417\n",
            "2         3     250\n"
          ]
        }
      ],
      "source": [
        "#We first locate and count the number of instances where the default value is either 0 or 1.\n",
        "default_0 = (read_file.loc[read_file['default payment next month']==0, ['MARRIAGE']]).value_counts().reset_index(name='Counts')\n",
        "default_0 = default_0.sort_values(by = 'MARRIAGE')\n",
        "print(default_0)\n",
        "default_1 = (read_file.loc[read_file['default payment next month']==1, ['MARRIAGE']]).value_counts().reset_index(name='Counts')\n",
        "default_1 = default_1.sort_values(by = 'MARRIAGE')\n",
        "print(default_1)\n",
        "default_0n1 = default_1\n",
        "default_0n1['Counts'] = default_0['Counts'] + default_1['Counts']\n",
        "default_0n1 = default_0n1.sort_values(by = 'MARRIAGE')\n",
        "print(default_0n1)"
      ]
    },
    {
      "cell_type": "code",
      "execution_count": 19,
      "id": "2a10a33b-3470-47b4-8d43-5729aeae3b3e",
      "metadata": {
        "colab": {
          "base_uri": "https://localhost:8080/",
          "height": 336
        },
        "id": "2a10a33b-3470-47b4-8d43-5729aeae3b3e",
        "outputId": "874dfc33-bfa8-4ae7-c691-cbef5948a1b6"
      },
      "outputs": [
        {
          "output_type": "display_data",
          "data": {
            "text/plain": [
              "<Figure size 720x360 with 1 Axes>"
            ],
            "image/png": "[encoded data removed]"
          },
          "metadata": {
            "needs_background": "light"
          }
        }
      ],
      "source": [
        "#We then plot a stacjed bar chart. Please make a note of the legend since it can change w.r.t the plot.\n",
        "bars = plt.bar(range(len(default_0n1.index)), default_0n1['Counts'], label = 'Default: Yes')\n",
        "plt.bar(range(len(default_0.index)), default_0['Counts'], label = 'Default: No')\n",
        "plt.legend(loc='best')\n",
        "plt.title('Marriage distribution in Credit Card Clients')\n",
        "plt.xticks([0,1,2],['Married','Single','Others'])\n",
        "for i in bars:\n",
        "    H = i.get_height()\n",
        "    plt.text(i.get_x()+0.3, H+150, H)"
      ]
    },
    {
      "cell_type": "code",
      "execution_count": 20,
      "id": "1227fa74-e658-43f9-81cb-53bf60eb9a91",
      "metadata": {
        "colab": {
          "base_uri": "https://localhost:8080/",
          "height": 336
        },
        "id": "1227fa74-e658-43f9-81cb-53bf60eb9a91",
        "outputId": "a860082c-9c8c-405f-b99b-9f268af08808"
      },
      "outputs": [
        {
          "output_type": "display_data",
          "data": {
            "text/plain": [
              "<Figure size 720x360 with 1 Axes>"
            ],
            "image/png": "[encoded data removed]"
          },
          "metadata": {
            "needs_background": "light"
          }
        }
      ],
      "source": [
        "#We repeat the above for all the stacked plots concerned\n",
        "default_0 = (read_file.loc[read_file['default payment next month']==0, ['SEX']]).value_counts().reset_index(name='Counts')\n",
        "default_0 = default_0.sort_values(by = 'SEX')\n",
        "default_1 = (read_file.loc[read_file['default payment next month']==1, ['SEX']]).value_counts().reset_index(name='Counts')\n",
        "default_1 = default_1.sort_index()\n",
        "default_0n1 = default_1\n",
        "default_0n1['Counts'] = default_0['Counts'] + default_1['Counts']\n",
        "default_0n1 = default_0n1.sort_values(by = 'SEX')\n",
        "\n",
        "bars = plt.bar(range(len(default_0n1.index)), default_0n1['Counts'], label = 'Default: Yes')\n",
        "plt.bar(range(len(default_0.index)), default_0['Counts'], label = 'Default: No')\n",
        "plt.legend(loc='best')\n",
        "plt.title('Gender distribution in Credit Card Clients')\n",
        "plt.xticks([0,1],['Male', 'Female'])\n",
        "for i in bars:\n",
        "    H = i.get_height()\n",
        "    plt.text(i.get_x()+0.3, H+150, H)"
      ]
    },
    {
      "cell_type": "code",
      "execution_count": null,
      "id": "a3eb197b-8d0d-4882-80dc-4997de9b85b5",
      "metadata": {
        "colab": {
          "base_uri": "https://localhost:8080/",
          "height": 336
        },
        "id": "a3eb197b-8d0d-4882-80dc-4997de9b85b5",
        "outputId": "e2491c5b-0023-425d-8b79-5afbfab0ea7a"
      },
      "outputs": [
        {
          "output_type": "display_data",
          "data": {
            "text/plain": [
              "<Figure size 720x360 with 1 Axes>"
            ],
            "image/png": "[encoded data removed]"
          },
          "metadata": {
            "needs_background": "light"
          }
        }
      ],
      "source": [
        "default_0 = (read_file.loc[read_file['default payment next month']==0, ['EDUCATION']]).value_counts().reset_index(name='Counts')\n",
        "default_0 = default_0.sort_values(by = 'EDUCATION')\n",
        "default_1 = (read_file.loc[read_file['default payment next month']==1, ['EDUCATION']]).value_counts().reset_index(name='Counts')\n",
        "default_1 = default_1.sort_index()\n",
        "default_0n1 = default_1\n",
        "default_0n1['Counts'] = default_0['Counts'] + default_1['Counts']\n",
        "default_0n1 = default_0n1.sort_values(by = 'EDUCATION')\n",
        "\n",
        "bars = plt.bar(range(len(default_0n1.index)), default_0n1['Counts'], label = 'Default: Yes')\n",
        "plt.bar(range(len(default_0.index)), default_0['Counts'], label = 'Default: No')\n",
        "plt.legend(loc='best')\n",
        "plt.title('Education distribution in Credit Card Clients')\n",
        "plt.xticks([0,1,2,3],['Graduate School','University','High School','Others'])\n",
        "for i in bars:\n",
        "    H = i.get_height()\n",
        "    plt.text(i.get_x()+0.3, H+150, H)"
      ]
    },
    {
      "cell_type": "markdown",
      "source": [
        "### Highest Ranked Categorical Features \n",
        "are PAY_0, PAY_2, PAY_3"
      ],
      "metadata": {
        "id": "aOaarTcdKkv6"
      },
      "id": "aOaarTcdKkv6"
    },
    {
      "cell_type": "code",
      "execution_count": null,
      "id": "667a08b0-d873-4708-9b0b-fb0e5b754cf4",
      "metadata": {
        "colab": {
          "base_uri": "https://localhost:8080/",
          "height": 336
        },
        "id": "667a08b0-d873-4708-9b0b-fb0e5b754cf4",
        "outputId": "5e4a6386-140f-42eb-c1ab-caa399a24748"
      },
      "outputs": [
        {
          "output_type": "display_data",
          "data": {
            "text/plain": [
              "<Figure size 720x360 with 1 Axes>"
            ],
            "image/png": "[encoded data removed]"
          },
          "metadata": {
            "needs_background": "light"
          }
        }
      ],
      "source": [
        "default_0 = (read_file.loc[read_file['default payment next month']==0, ['PAY_0']]).value_counts().reset_index(name='Counts')\n",
        "default_0 = default_0.sort_values(by = 'PAY_0')\n",
        "default_1 = (read_file.loc[read_file['default payment next month']==1, ['PAY_0']]).value_counts().reset_index(name='Counts')\n",
        "default_1 = default_1.sort_index()\n",
        "default_0n1 = default_1\n",
        "default_0n1['Counts'] = default_0['Counts'] + default_1['Counts']\n",
        "default_0n1 = default_0n1.sort_values(by = 'PAY_0')\n",
        "\n",
        "bars = plt.bar(range(len(default_0n1.index)), default_0n1['Counts'], label = 'Default: Yes')\n",
        "plt.bar(range(len(default_0.index)), default_0['Counts'], label = 'Default: No')\n",
        "plt.legend(loc='best')\n",
        "plt.title('Payment Status for the first month distribution in Credit Card Clients')\n",
        "plt.xticks([0,1,2,3,4,5,6,7,8],[0,1,2,3,4,5,6,7,8])\n",
        "for i in bars:\n",
        "    H = i.get_height()\n",
        "    plt.text(i.get_x()+0.2, H+150, H)"
      ]
    },
    {
      "cell_type": "code",
      "execution_count": null,
      "id": "edb2c2ae-e8f3-42e5-975a-615171bce169",
      "metadata": {
        "colab": {
          "base_uri": "https://localhost:8080/",
          "height": 336
        },
        "id": "edb2c2ae-e8f3-42e5-975a-615171bce169",
        "outputId": "9740995a-fd4e-4536-e876-85f22c8cd363"
      },
      "outputs": [
        {
          "output_type": "display_data",
          "data": {
            "text/plain": [
              "<Figure size 720x360 with 1 Axes>"
            ],
            "image/png": "[encoded data removed]"
          },
          "metadata": {
            "needs_background": "light"
          }
        }
      ],
      "source": [
        "default_0 = (read_file.loc[read_file['default payment next month']==0, ['PAY_2']]).value_counts().reset_index(name='Counts')\n",
        "default_0 = default_0.sort_values(by = 'PAY_2')\n",
        "default_1 = (read_file.loc[read_file['default payment next month']==1, ['PAY_2']]).value_counts().reset_index(name='Counts')\n",
        "default_1 = default_1.sort_index()\n",
        "default_0n1 = default_1\n",
        "default_0n1['Counts'] = default_0['Counts'] + default_1['Counts']\n",
        "default_0n1 = default_0n1.sort_values(by = 'PAY_2')\n",
        "\n",
        "bars = plt.bar(range(len(default_0n1.index)), default_0n1['Counts'], label = 'Default: Yes')\n",
        "plt.bar(range(len(default_0.index)), default_0['Counts'], label = 'Default: No')\n",
        "plt.legend(loc='best')\n",
        "plt.title('Payment Status for the second month distribution in Credit Card Clients')\n",
        "plt.xticks([0,1,2,3,4,5,6,7,8],[0,1,2,3,4,5,6,7,8])\n",
        "for i in bars:\n",
        "    H = i.get_height()\n",
        "    plt.text(i.get_x(), H+150, H)"
      ]
    },
    {
      "cell_type": "code",
      "execution_count": null,
      "id": "56747373-cfa2-4b1c-a966-3dc7cf6a2af7",
      "metadata": {
        "colab": {
          "base_uri": "https://localhost:8080/",
          "height": 336
        },
        "id": "56747373-cfa2-4b1c-a966-3dc7cf6a2af7",
        "outputId": "6d02d483-9496-4e0f-fb14-ea4106f62b8e"
      },
      "outputs": [
        {
          "output_type": "display_data",
          "data": {
            "text/plain": [
              "<Figure size 720x360 with 1 Axes>"
            ],
            "image/png": "[encoded data removed]"
          },
          "metadata": {
            "needs_background": "light"
          }
        }
      ],
      "source": [
        "default_0 = (read_file.loc[read_file['default payment next month']==0, ['PAY_3']]).value_counts().reset_index(name='Counts')\n",
        "default_0 = default_0.sort_values(by = 'PAY_3')\n",
        "default_1 = (read_file.loc[read_file['default payment next month']==1, ['PAY_3']]).value_counts().reset_index(name='Counts')\n",
        "default_1 = default_1.sort_index()\n",
        "default_0n1 = default_1\n",
        "default_0n1['Counts'] = default_0['Counts'] + default_1['Counts']\n",
        "default_0n1 = default_0n1.sort_values(by = 'PAY_3')\n",
        "\n",
        "bars = plt.bar(range(len(default_0n1.index)), default_0n1['Counts'], label = 'Default: Yes')\n",
        "plt.bar(range(len(default_0.index)), default_0['Counts'], label = 'Default: No')\n",
        "plt.legend(loc='best')\n",
        "plt.title('Payment Status for the third month distribution in Credit Card Clients')\n",
        "plt.xticks([0,1,2,3,4,5,6,7,8],[0,1,2,3,4,5,6,7,8])\n",
        "for i in bars:\n",
        "    H = i.get_height()\n",
        "    plt.text(i.get_x()+0.15, H+150, H)"
      ]
    },
    {
      "cell_type": "markdown",
      "source": [
        "### Lowest Ranked Numerical Features \n",
        "are AGE, BILL_AMT4 and BILL_AMT6"
      ],
      "metadata": {
        "id": "Z1JA8NM3Kwss"
      },
      "id": "Z1JA8NM3Kwss"
    },
    {
      "cell_type": "code",
      "execution_count": null,
      "id": "ce961870-3843-4bbc-ab2a-39492372bffa",
      "metadata": {
        "id": "ce961870-3843-4bbc-ab2a-39492372bffa"
      },
      "outputs": [],
      "source": [
        "#Since the values are numerical, we need to group them in bins.\n",
        "default_0 = (read_file.loc[read_file['default payment next month']==0, ['AGE']]).value_counts().reset_index(name='Counts')\n",
        "default_0 = default_0.sort_values(by = 'AGE')\n",
        "df_0 = default_0.groupby(pd.cut(default_0['AGE'], np.arange(20, 80, 5), labels=False)).sum() #Grouping in bins\n",
        "default_1 = (read_file.loc[read_file['default payment next month']==1, ['AGE']]).value_counts().reset_index(name='Counts')\n",
        "default_1 = default_1.sort_values(by = 'AGE')\n",
        "df_1 = default_1.groupby(pd.cut(default_0['AGE'], np.arange(20, 80, 5), labels=False)).sum() #Grouping in bins\n",
        "\n",
        "new_index = []\n",
        "for k in range(11):\n",
        "    new_index.insert(k, 5*k + 22.5)"
      ]
    },
    {
      "cell_type": "code",
      "execution_count": null,
      "id": "d47774d8-fd25-4130-b670-dd6b900a9dfc",
      "metadata": {
        "colab": {
          "base_uri": "https://localhost:8080/",
          "height": 336
        },
        "id": "d47774d8-fd25-4130-b670-dd6b900a9dfc",
        "outputId": "8245450e-da1a-4a29-9dd9-f047964cb72b"
      },
      "outputs": [
        {
          "output_type": "display_data",
          "data": {
            "text/plain": [
              "<Figure size 720x360 with 1 Axes>"
            ],
            "image/png": "[encoded data removed]"
          },
          "metadata": {
            "needs_background": "light"
          }
        }
      ],
      "source": [
        "bar_0 = plt.bar(new_index, df_0['Counts'], width=1.5, label = 'Default: No')\n",
        "bar_1 = plt.bar([x+1.5 for x in new_index], df_1['Counts'],width=1.5, label = 'Default: Yes')\n",
        "plt.title('Age distribution in Credit Card Clients')\n",
        "plt.legend(loc='best')\n",
        "for i in bar_0:\n",
        "    H = i.get_height()\n",
        "    plt.text(i.get_x()-0.4, H+50, H)\n",
        "for i in bar_1:\n",
        "    H = i.get_height()\n",
        "    plt.text(i.get_x(), H+50, H)"
      ]
    },
    {
      "cell_type": "code",
      "execution_count": null,
      "id": "498dcecb-257e-44bf-a2ff-7962087c6151",
      "metadata": {
        "colab": {
          "base_uri": "https://localhost:8080/",
          "height": 676
        },
        "id": "498dcecb-257e-44bf-a2ff-7962087c6151",
        "outputId": "31876e28-a469-439a-fcad-a7f228e4bf57"
      },
      "outputs": [
        {
          "output_type": "execute_result",
          "data": {
            "text/plain": [
              "([<matplotlib.axis.XTick at 0x7fb89c4b6950>,\n",
              "  <matplotlib.axis.XTick at 0x7fb89c4b6910>,\n",
              "  <matplotlib.axis.XTick at 0x7fb89c4b6590>,\n",
              "  <matplotlib.axis.XTick at 0x7fb89c3d1690>,\n",
              "  <matplotlib.axis.XTick at 0x7fb89c3d1c10>,\n",
              "  <matplotlib.axis.XTick at 0x7fb89c3d1b50>,\n",
              "  <matplotlib.axis.XTick at 0x7fb89c3d9410>,\n",
              "  <matplotlib.axis.XTick at 0x7fb89c3d9950>,\n",
              "  <matplotlib.axis.XTick at 0x7fb89c3d9e90>,\n",
              "  <matplotlib.axis.XTick at 0x7fb89c3e1410>],\n",
              " [Text(0, 0, '-130142'),\n",
              "  Text(0, 0, '-50427'),\n",
              "  Text(0, 0, '29288'),\n",
              "  Text(0, 0, '109003'),\n",
              "  Text(0, 0, '188718'),\n",
              "  Text(0, 0, '268433'),\n",
              "  Text(0, 0, '348148'),\n",
              "  Text(0, 0, '427863'),\n",
              "  Text(0, 0, '507578'),\n",
              "  Text(0, 0, '587293')])"
            ]
          },
          "metadata": {},
          "execution_count": 140
        },
        {
          "output_type": "display_data",
          "data": {
            "text/plain": [
              "<Figure size 720x360 with 1 Axes>"
            ],
            "image/png": "[encoded data removed]"
          },
          "metadata": {
            "needs_background": "light"
          }
        }
      ],
      "source": [
        "#The process is same for all the following charts\n",
        "max_val = read_file['BILL_AMT4'].max()\n",
        "min_val = read_file['BILL_AMT4'].min()\n",
        "intervals = ceil((max_val - min_val)/11)\n",
        "df_count0 = read_file.groupby('BILL_AMT4')['default payment next month'].apply(lambda x: (x==0).sum()).reset_index(name='count')\n",
        "df_count1 = read_file.groupby('BILL_AMT4')['default payment next month'].apply(lambda x: (x==1).sum()).reset_index(name='count')\n",
        "df_0 = df_count0.groupby(pd.cut(df_count0['BILL_AMT4'], np.arange(min_val, max_val, intervals))).sum()\n",
        "df_1 = df_count1.groupby(pd.cut(df_count1['BILL_AMT4'], np.arange(min_val, max_val, intervals))).sum()\n",
        "\n",
        "new_index = [0,1,2,3,4,5,6,7,8,9]\n",
        "index_tick = []\n",
        "for i in range(len(df_0)):\n",
        "    index_tick.insert(i, ceil(intervals*i + min_val + intervals/2))\n",
        "\n",
        "width=0.4    \n",
        "bar_0 = plt.bar([x-width/2 for x in new_index], df_0['count'], width=width, label = 'Default: No')\n",
        "bar_1 = plt.bar([x+width/2 for x in new_index], df_1['count'],width=width, label = 'Default: Yes')\n",
        "plt.title('Month 4 Bill Amount distribution in Credit Card Clients')\n",
        "plt.legend(loc='best')\n",
        "for i in bar_0:\n",
        "    H = i.get_height()\n",
        "    plt.text(i.get_x(), H+50, H)\n",
        "for i in bar_1:\n",
        "    H = i.get_height()\n",
        "    plt.text(i.get_x(), H+50, H)\n",
        "plt.xticks([0,1,2,3,4,5,6,7,8,9],index_tick)"
      ]
    },
    {
      "cell_type": "code",
      "execution_count": null,
      "id": "ef571349-f380-4a1a-8973-b0510e997470",
      "metadata": {
        "colab": {
          "base_uri": "https://localhost:8080/",
          "height": 676
        },
        "id": "ef571349-f380-4a1a-8973-b0510e997470",
        "outputId": "2156af23-eaa3-47fe-bea4-5f2804d559f8"
      },
      "outputs": [
        {
          "output_type": "execute_result",
          "data": {
            "text/plain": [
              "([<matplotlib.axis.XTick at 0x7fb89c3a3290>,\n",
              "  <matplotlib.axis.XTick at 0x7fb89c3a3250>,\n",
              "  <matplotlib.axis.XTick at 0x7fb89c3a3190>,\n",
              "  <matplotlib.axis.XTick at 0x7fb89c372f50>,\n",
              "  <matplotlib.axis.XTick at 0x7fb89c37e550>,\n",
              "  <matplotlib.axis.XTick at 0x7fb89c37ea90>,\n",
              "  <matplotlib.axis.XTick at 0x7fb89c37e090>,\n",
              "  <matplotlib.axis.XTick at 0x7fb89c37ef90>,\n",
              "  <matplotlib.axis.XTick at 0x7fb89c2c4550>,\n",
              "  <matplotlib.axis.XTick at 0x7fb89c2c4a10>],\n",
              " [Text(0, 0, '-167733'),\n",
              "  Text(0, 0, '-85097'),\n",
              "  Text(0, 0, '-2461'),\n",
              "  Text(0, 0, '80175'),\n",
              "  Text(0, 0, '162811'),\n",
              "  Text(0, 0, '245447'),\n",
              "  Text(0, 0, '328083'),\n",
              "  Text(0, 0, '410719'),\n",
              "  Text(0, 0, '493355'),\n",
              "  Text(0, 0, '575991')])"
            ]
          },
          "metadata": {},
          "execution_count": 141
        },
        {
          "output_type": "display_data",
          "data": {
            "text/plain": [
              "<Figure size 720x360 with 1 Axes>"
            ],
            "image/png": "[encoded data removed]"
          },
          "metadata": {
            "needs_background": "light"
          }
        }
      ],
      "source": [
        "max_val = read_file['BILL_AMT6'].max()\n",
        "min_val = read_file['BILL_AMT6'].min()\n",
        "intervals = ceil((max_val - min_val)/11)\n",
        "df_count0 = read_file.groupby('BILL_AMT6')['default payment next month'].apply(lambda x: (x==0).sum()).reset_index(name='count')\n",
        "df_count1 = read_file.groupby('BILL_AMT6')['default payment next month'].apply(lambda x: (x==1).sum()).reset_index(name='count')\n",
        "df_0 = df_count0.groupby(pd.cut(df_count0['BILL_AMT6'], np.arange(min_val, max_val, intervals))).sum()\n",
        "df_1 = df_count1.groupby(pd.cut(df_count1['BILL_AMT6'], np.arange(min_val, max_val, intervals))).sum()\n",
        "\n",
        "new_index = [0,1,2,3,4,5,6,7,8,9]\n",
        "index_tick = []\n",
        "for i in range(len(df_0)):\n",
        "    index_tick.insert(i, ceil(intervals*i + min_val + intervals/2))\n",
        "\n",
        "width=0.4    \n",
        "bar_0 = plt.bar([x-width/2 for x in new_index], df_0['count'], width=width, label = 'Default: No')\n",
        "bar_1 = plt.bar([x+width/2 for x in new_index], df_1['count'],width=width, label = 'Default: Yes')\n",
        "plt.title('Month 6 Bill Amount distribution in Credit Card Clients')\n",
        "plt.legend(loc='best')\n",
        "for i in bar_0:\n",
        "    H = i.get_height()\n",
        "    plt.text(i.get_x(), H+50, H)\n",
        "for i in bar_1:\n",
        "    H = i.get_height()\n",
        "    plt.text(i.get_x(), H+50, H)\n",
        "plt.xticks([0,1,2,3,4,5,6,7,8,9],index_tick)"
      ]
    },
    {
      "cell_type": "markdown",
      "source": [
        "### Highest Ranked Numerical Features \n",
        "are PAY_AMT1, LIMIT_BAL and PAY_AMT2"
      ],
      "metadata": {
        "id": "t0Mzzb2HdQqQ"
      },
      "id": "t0Mzzb2HdQqQ"
    },
    {
      "cell_type": "code",
      "execution_count": null,
      "id": "92f74ffd-2c7a-4acd-b516-85cfab987b00",
      "metadata": {
        "colab": {
          "base_uri": "https://localhost:8080/",
          "height": 676
        },
        "id": "92f74ffd-2c7a-4acd-b516-85cfab987b00",
        "outputId": "bab4f03b-e1af-4626-a5a1-b7dbc50588cc"
      },
      "outputs": [
        {
          "output_type": "execute_result",
          "data": {
            "text/plain": [
              "([<matplotlib.axis.XTick at 0x7fb89c4d8910>,\n",
              "  <matplotlib.axis.XTick at 0x7fb89c4d8990>,\n",
              "  <matplotlib.axis.XTick at 0x7fb89c4d8610>,\n",
              "  <matplotlib.axis.XTick at 0x7fb89c6738d0>,\n",
              "  <matplotlib.axis.XTick at 0x7fb89c69e0d0>,\n",
              "  <matplotlib.axis.XTick at 0x7fb89c69ec90>,\n",
              "  <matplotlib.axis.XTick at 0x7fb89c69e150>,\n",
              "  <matplotlib.axis.XTick at 0x7fb89c66f350>,\n",
              "  <matplotlib.axis.XTick at 0x7fb89c66fa50>,\n",
              "  <matplotlib.axis.XTick at 0x7fb89c689ed0>],\n",
              " [Text(0, 0, '39707'),\n",
              "  Text(0, 0, '119121'),\n",
              "  Text(0, 0, '198535'),\n",
              "  Text(0, 0, '277949'),\n",
              "  Text(0, 0, '357363'),\n",
              "  Text(0, 0, '436777'),\n",
              "  Text(0, 0, '516191'),\n",
              "  Text(0, 0, '595605'),\n",
              "  Text(0, 0, '675019'),\n",
              "  Text(0, 0, '754433')])"
            ]
          },
          "metadata": {},
          "execution_count": 142
        },
        {
          "output_type": "display_data",
          "data": {
            "text/plain": [
              "<Figure size 720x360 with 1 Axes>"
            ],
            "image/png": "[encoded data removed]"
          },
          "metadata": {
            "needs_background": "light"
          }
        }
      ],
      "source": [
        "max_val = read_file['PAY_AMT1'].max()\n",
        "min_val = read_file['PAY_AMT1'].min()\n",
        "intervals = ceil((max_val - min_val)/11)\n",
        "df_count0 = read_file.groupby('PAY_AMT1')['default payment next month'].apply(lambda x: (x==0).sum()).reset_index(name='count')\n",
        "df_count1 = read_file.groupby('PAY_AMT1')['default payment next month'].apply(lambda x: (x==1).sum()).reset_index(name='count')\n",
        "df_0 = df_count0.groupby(pd.cut(df_count0['PAY_AMT1'], np.arange(min_val, max_val, intervals))).sum()\n",
        "df_1 = df_count1.groupby(pd.cut(df_count1['PAY_AMT1'], np.arange(min_val, max_val, intervals))).sum()\n",
        "\n",
        "new_index = [0,1,2,3,4,5,6,7,8,9]\n",
        "index_tick = []\n",
        "for i in range(len(df_0)):\n",
        "    index_tick.insert(i, ceil(intervals*i + min_val + intervals/2))\n",
        "\n",
        "width=0.4    \n",
        "bar_0 = plt.bar([x-width/2 for x in new_index], df_0['count'], width=width, label = 'Default: No')\n",
        "bar_1 = plt.bar([x+width/2 for x in new_index], df_1['count'],width=width, label = 'Default: Yes')\n",
        "plt.title('Month 1 Payment Amount distribution in Credit Card Clients')\n",
        "plt.legend(loc='best')\n",
        "for i in bar_0:\n",
        "    H = i.get_height()\n",
        "    plt.text(i.get_x(), H+50, H)\n",
        "for i in bar_1:\n",
        "    H = i.get_height()\n",
        "    plt.text(i.get_x(), H+50, H)\n",
        "plt.xticks([0,1,2,3,4,5,6,7,8,9],index_tick)"
      ]
    },
    {
      "cell_type": "code",
      "execution_count": null,
      "id": "82352425-06e9-46aa-9e86-302b5c0dbbb1",
      "metadata": {
        "colab": {
          "base_uri": "https://localhost:8080/",
          "height": 676
        },
        "id": "82352425-06e9-46aa-9e86-302b5c0dbbb1",
        "outputId": "c839d54e-c40d-441a-c351-29488cc6e9a6"
      },
      "outputs": [
        {
          "output_type": "execute_result",
          "data": {
            "text/plain": [
              "([<matplotlib.axis.XTick at 0x7fb89c718390>,\n",
              "  <matplotlib.axis.XTick at 0x7fb89c718710>,\n",
              "  <matplotlib.axis.XTick at 0x7fb89c718dd0>,\n",
              "  <matplotlib.axis.XTick at 0x7fb89c7d5450>,\n",
              "  <matplotlib.axis.XTick at 0x7fb89c851550>,\n",
              "  <matplotlib.axis.XTick at 0x7fb89c851590>,\n",
              "  <matplotlib.axis.XTick at 0x7fb89c851210>,\n",
              "  <matplotlib.axis.XTick at 0x7fb89c7dab50>,\n",
              "  <matplotlib.axis.XTick at 0x7fb89c7dad90>,\n",
              "  <matplotlib.axis.XTick at 0x7fb89c7da150>],\n",
              " [Text(0, 0, '76558'),\n",
              "  Text(0, 0, '229673'),\n",
              "  Text(0, 0, '382788'),\n",
              "  Text(0, 0, '535903'),\n",
              "  Text(0, 0, '689018'),\n",
              "  Text(0, 0, '842133'),\n",
              "  Text(0, 0, '995248'),\n",
              "  Text(0, 0, '1148363'),\n",
              "  Text(0, 0, '1301478'),\n",
              "  Text(0, 0, '1454593')])"
            ]
          },
          "metadata": {},
          "execution_count": 143
        },
        {
          "output_type": "display_data",
          "data": {
            "text/plain": [
              "<Figure size 720x360 with 1 Axes>"
            ],
            "image/png": "[encoded data removed]"
          },
          "metadata": {
            "needs_background": "light"
          }
        }
      ],
      "source": [
        "max_val = read_file['PAY_AMT2'].max()\n",
        "min_val = read_file['PAY_AMT2'].min()\n",
        "intervals = ceil((max_val - min_val)/11)\n",
        "df_count0 = read_file.groupby('PAY_AMT2')['default payment next month'].apply(lambda x: (x==0).sum()).reset_index(name='count')\n",
        "df_count1 = read_file.groupby('PAY_AMT2')['default payment next month'].apply(lambda x: (x==1).sum()).reset_index(name='count')\n",
        "df_0 = df_count0.groupby(pd.cut(df_count0['PAY_AMT2'], np.arange(min_val, max_val, intervals))).sum()\n",
        "df_1 = df_count1.groupby(pd.cut(df_count1['PAY_AMT2'], np.arange(min_val, max_val, intervals))).sum()\n",
        "\n",
        "new_index = [0,1,2,3,4,5,6,7,8,9]\n",
        "index_tick = []\n",
        "for i in range(len(df_0)):\n",
        "    index_tick.insert(i, ceil(intervals*i + min_val + intervals/2))\n",
        "\n",
        "width=0.4    \n",
        "bar_0 = plt.bar([x-width/2 for x in new_index], df_0['count'], width=width, label = 'Default: No')\n",
        "bar_1 = plt.bar([x+width/2 for x in new_index], df_1['count'],width=width, label = 'Default: Yes')\n",
        "plt.title('Month 2 Payment Amount distribution in Credit Card Clients')\n",
        "plt.legend(loc='best')\n",
        "for i in bar_0:\n",
        "    H = i.get_height()\n",
        "    plt.text(i.get_x(), H+50, H)\n",
        "for i in bar_1:\n",
        "    H = i.get_height()\n",
        "    plt.text(i.get_x(), H+50, H)\n",
        "plt.xticks([0,1,2,3,4,5,6,7,8,9],index_tick)"
      ]
    },
    {
      "cell_type": "code",
      "execution_count": null,
      "id": "d7916795-23f4-42b4-b195-76f47295c499",
      "metadata": {
        "colab": {
          "base_uri": "https://localhost:8080/",
          "height": 676
        },
        "id": "d7916795-23f4-42b4-b195-76f47295c499",
        "outputId": "4917948f-64ff-47ef-ce17-43b2f7dc8058"
      },
      "outputs": [
        {
          "output_type": "execute_result",
          "data": {
            "text/plain": [
              "([<matplotlib.axis.XTick at 0x7fb89c963190>,\n",
              "  <matplotlib.axis.XTick at 0x7fb89c963910>,\n",
              "  <matplotlib.axis.XTick at 0x7fb89c9635d0>,\n",
              "  <matplotlib.axis.XTick at 0x7fb89c9b7f10>,\n",
              "  <matplotlib.axis.XTick at 0x7fb89c9b7c90>,\n",
              "  <matplotlib.axis.XTick at 0x7fb89c9b7f50>,\n",
              "  <matplotlib.axis.XTick at 0x7fb89c94d350>,\n",
              "  <matplotlib.axis.XTick at 0x7fb89c94dd90>,\n",
              "  <matplotlib.axis.XTick at 0x7fb89c94d450>,\n",
              "  <matplotlib.axis.XTick at 0x7fb8a24c0a90>],\n",
              " [Text(0, 0, '45910'),\n",
              "  Text(0, 0, '117729'),\n",
              "  Text(0, 0, '189548'),\n",
              "  Text(0, 0, '261367'),\n",
              "  Text(0, 0, '333186'),\n",
              "  Text(0, 0, '405005'),\n",
              "  Text(0, 0, '476824'),\n",
              "  Text(0, 0, '548643'),\n",
              "  Text(0, 0, '620462'),\n",
              "  Text(0, 0, '692281')])"
            ]
          },
          "metadata": {},
          "execution_count": 144
        },
        {
          "output_type": "display_data",
          "data": {
            "text/plain": [
              "<Figure size 720x360 with 1 Axes>"
            ],
            "image/png": "[encoded data removed]"
          },
          "metadata": {
            "needs_background": "light"
          }
        }
      ],
      "source": [
        "max_val = read_file['LIMIT_BAL'].max()\n",
        "min_val = read_file['LIMIT_BAL'].min()\n",
        "intervals = ceil((max_val - min_val)/11)\n",
        "df_count0 = read_file.groupby('LIMIT_BAL')['default payment next month'].apply(lambda x: (x==0).sum()).reset_index(name='count')\n",
        "df_count1 = read_file.groupby('LIMIT_BAL')['default payment next month'].apply(lambda x: (x==1).sum()).reset_index(name='count')\n",
        "df_0 = df_count0.groupby(pd.cut(df_count0['LIMIT_BAL'], np.arange(min_val, max_val, intervals))).sum()\n",
        "df_1 = df_count1.groupby(pd.cut(df_count1['LIMIT_BAL'], np.arange(min_val, max_val, intervals))).sum()\n",
        "\n",
        "new_index = [0,1,2,3,4,5,6,7,8,9]\n",
        "index_tick = []\n",
        "for i in range(len(df_0)):\n",
        "    index_tick.insert(i, ceil(intervals*i + min_val + intervals/2))\n",
        "\n",
        "width=0.4    \n",
        "bar_0 = plt.bar([x-width/2 for x in new_index], df_0['count'], width=width, label = 'Default: No')\n",
        "bar_1 = plt.bar([x+width/2 for x in new_index], df_1['count'],width=width, label = 'Default: Yes')\n",
        "plt.title('Balance Limit Amount distribution in Credit Card Clients')\n",
        "plt.legend(loc='best')\n",
        "for i in bar_0:\n",
        "    H = i.get_height()\n",
        "    plt.text(i.get_x(), H+50, H)\n",
        "for i in bar_1:\n",
        "    H = i.get_height()\n",
        "    plt.text(i.get_x(), H+50, H)\n",
        "plt.xticks([0,1,2,3,4,5,6,7,8,9],index_tick)"
      ]
    },
    {
      "cell_type": "markdown",
      "source": [
        "The **Distributions** show, that while the marital status(married and single) don't have a lot of difference in terms of numbers, the education data shows mostly people who are highly educated tend more to be credit card clients. The Female clientele is slightly more than the Male. In terms of age, people in their 20s and 30s are more inclined to be a credit card client. \n",
        "\n",
        "The Balance limit for most people is on the lower end, with only a handful of people having really high balance limit on their cards. Most of the people do tend to pay off their balances immediately or a month late. Bill amounts are usually in the lower positive area, while some in the negative, which could pertain to some refund or cashback. The payments made are also correspondingly towards the lower end of the spectrum. "
      ],
      "metadata": {
        "id": "wN9I44Pd1e62"
      },
      "id": "wN9I44Pd1e62"
    },
    {
      "cell_type": "markdown",
      "source": [
        "The **Ranked Lists** seen are reasonable. It would make sense that if the client's balance limit is too high, they have more purchasing power, but this would also mean the amount they will have to pay is higher. Also, if a person isn't able to pay their bill, then the bill amount would go piling up. Both these reasons can lead to defaulting the card. So it makes sense that balance limit and Payment amounts are higher in the list. Whatever value the bill is, it's whether the person is paying them or not that will escalate things. \n",
        "\n",
        "It also makes sense that the Pay_n amounts are higher on the categorical list. They show whether a person has properly paid the bill amounts(since Pay_n indicates how many months has the bill not been paid). Its a direct correlation and can give us an idea looking at a person's history what they're going to do in the future. \n",
        "\n",
        "In both these lists, features like age, gender rank lower. This is because a person's ability to pay a bill doesn't depend on their gender, or marriage status, rather their spending habits, their income, and how responsibly are they paying the bills is what factors in. \n",
        "\n",
        "\n",
        "\n"
      ],
      "metadata": {
        "id": "s_-v57pOxkwj"
      },
      "id": "s_-v57pOxkwj"
    },
    {
      "cell_type": "markdown",
      "source": [
        "# Task 4: Data Preprocessing"
      ],
      "metadata": {
        "id": "XUYklSVAi0ve"
      },
      "id": "XUYklSVAi0ve"
    },
    {
      "cell_type": "markdown",
      "source": [
        "## Task 4(a): Creating new features\n",
        "\n",
        "In this part, we create new features from the old, already present ones. \n",
        "\n",
        "I am creating 3 new features, BILL_TOT, PAY_TOT, and BILL_PAY_DIFF. BILL_TOT is the total amount of all bill amounts for all months for all clients, while PAY_TOT is the total payment made for all months for all clients. BILL_PAY_TOT is the difference between the total bill and total payment made.\n",
        "\n",
        "I believe these features can be useful, as they can help use visualize the client spendings and payments over long term, and also check how much money do they owe more. It might also give us an insight into how the total past history could be related in a person defaulting or no defaulting."
      ],
      "metadata": {
        "id": "SrtdfNwE2dHw"
      },
      "id": "SrtdfNwE2dHw"
    },
    {
      "cell_type": "code",
      "execution_count": null,
      "id": "17adcc9d-6499-490e-ac15-30d49ee690ac",
      "metadata": {
        "id": "17adcc9d-6499-490e-ac15-30d49ee690ac"
      },
      "outputs": [],
      "source": [
        "#We create 3 new features based on features already present\n",
        "read_file['BILL_TOT'] = (read_file['BILL_AMT1'] + read_file['BILL_AMT2'] + \n",
        "                         read_file['BILL_AMT3'] + read_file['BILL_AMT4'] + \n",
        "                         read_file['BILL_AMT5'] + read_file['BILL_AMT6'])\n",
        "read_file['PAY_TOT'] = (read_file['PAY_AMT1'] + read_file['PAY_AMT2'] + \n",
        "                        read_file['PAY_AMT3'] + read_file['PAY_AMT4'] + \n",
        "                        read_file['PAY_AMT5'] + read_file['PAY_AMT6'])\n",
        "read_file['BILL_PAY_TOT'] = read_file['PAY_TOT'] - read_file['BILL_TOT']\n",
        "\n",
        "#We now need to shift the target column to be after our new features\n",
        "default = read_file.pop('default payment next month')\n",
        "read_file.insert(28,'default payment next month', default)"
      ]
    },
    {
      "cell_type": "markdown",
      "source": [
        "## Task 4(b): Normalizing numerical features\n",
        "\n",
        "We normalize all numerical features into the range [0,1]. In this code, I have used min-max normalization, which involves bringing the lowest value to 0, and all other values are subtracted by the min value, and then all values are divided by the range, to effectively give us a [0,1] range."
      ],
      "metadata": {
        "id": "nlN7JXxP8Lfl"
      },
      "id": "nlN7JXxP8Lfl"
    },
    {
      "cell_type": "code",
      "execution_count": null,
      "id": "c9ffbc8f-a79d-4039-a45a-161985ea1677",
      "metadata": {
        "colab": {
          "base_uri": "https://localhost:8080/"
        },
        "id": "c9ffbc8f-a79d-4039-a45a-161985ea1677",
        "outputId": "210b2761-e7c8-43b2-efa4-04928c0b0c51"
      },
      "outputs": [
        {
          "output_type": "stream",
          "name": "stdout",
          "text": [
            "Range of LIMIT_BAL is 10000 to 800000\n",
            "Range of LIMIT_BAL_norm is 0.0 to 1.0 \n",
            "\n",
            "Range of AGE is 21 to 75\n",
            "Range of AGE_norm is 0.0 to 1.0 \n",
            "\n",
            "Range of BILL_AMT1 is -165580 to 746814\n",
            "Range of BILL_AMT1_norm is 0.0 to 1.0 \n",
            "\n",
            "Range of BILL_AMT2 is -69777 to 743970\n",
            "Range of BILL_AMT2_norm is 0.0 to 1.0 \n",
            "\n",
            "Range of BILL_AMT3 is -157264 to 1664089\n",
            "Range of BILL_AMT3_norm is 0.0 to 1.0 \n",
            "\n",
            "Range of BILL_AMT4 is -170000 to 706864\n",
            "Range of BILL_AMT4_norm is 0.0 to 1.0 \n",
            "\n",
            "Range of BILL_AMT5 is -81334 to 823540\n",
            "Range of BILL_AMT5_norm is 0.0 to 1.0 \n",
            "\n",
            "Range of BILL_AMT6 is -209051 to 699944\n",
            "Range of BILL_AMT6_norm is 0.0 to 1.0 \n",
            "\n",
            "Range of PAY_AMT1 is 0 to 873552\n",
            "Range of PAY_AMT1_norm is 0.0 to 1.0 \n",
            "\n",
            "Range of PAY_AMT2 is 0 to 1684259\n",
            "Range of PAY_AMT2_norm is 0.0 to 1.0 \n",
            "\n",
            "Range of PAY_AMT3 is 0 to 889043\n",
            "Range of PAY_AMT3_norm is 0.0 to 1.0 \n",
            "\n",
            "Range of PAY_AMT4 is 0 to 621000\n",
            "Range of PAY_AMT4_norm is 0.0 to 1.0 \n",
            "\n",
            "Range of PAY_AMT5 is 0 to 426529\n",
            "Range of PAY_AMT5_norm is 0.0 to 1.0 \n",
            "\n",
            "Range of PAY_AMT6 is 0 to 528666\n",
            "Range of PAY_AMT6_norm is 0.0 to 1.0 \n",
            "\n",
            "Range of BILL_TOT is -259523 to 3554591\n",
            "Range of BILL_TOT_norm is 0.0 to 1.0 \n",
            "\n",
            "Range of PAY_TOT is 0 to 3764066\n",
            "Range of PAY_TOT_norm is 0.0 to 1.0 \n",
            "\n",
            "Range of BILL_PAY_TOT is -3454059 to 2671514\n",
            "Range of BILL_PAY_TOT_norm is 0.0 to 1.0 \n",
            "\n"
          ]
        }
      ],
      "source": [
        "#Normalizing the numerical features\n",
        "Numerical = ['LIMIT_BAL','AGE','BILL_AMT1','BILL_AMT2','BILL_AMT3','BILL_AMT4',\n",
        "             'BILL_AMT5','BILL_AMT6','PAY_AMT1','PAY_AMT2','PAY_AMT3','PAY_AMT4'\n",
        "             ,'PAY_AMT5','PAY_AMT6','BILL_TOT','PAY_TOT', 'BILL_PAY_TOT']\n",
        "for i in range(len(Numerical)):\n",
        "    #min-max normalization \n",
        "    read_file[Numerical[i] + '_norm'] = ((read_file[Numerical[i]]-read_file[Numerical[i]].min())/(read_file[Numerical[i]].max()-read_file[Numerical[i]].min()))\n",
        "    print('Range of', Numerical[i], 'is', min(read_file[Numerical[i]]), 'to', max(read_file[Numerical[i]]))\n",
        "    print('Range of', Numerical[i] + '_norm', 'is', min(read_file[Numerical[i] + '_norm']), 'to', max(read_file[Numerical[i] + '_norm']),'\\n')"
      ]
    },
    {
      "cell_type": "markdown",
      "source": [
        "## Task 4(c): One-hot Encoding\n",
        "\n",
        "The categorical labels cannot be input in a Decision tree, hence they need to be encoded in One-Hot Encoding form, that involves representing feature values as either 0 or 1. \n",
        "\n",
        "The next two blocks show the code and no. of 1's in each new binary features. "
      ],
      "metadata": {
        "id": "Mxml6Vn59rhH"
      },
      "id": "Mxml6Vn59rhH"
    },
    {
      "cell_type": "code",
      "execution_count": null,
      "id": "1d2f1aa4-bcbf-47fd-b938-1eb2fd99f772",
      "metadata": {
        "colab": {
          "base_uri": "https://localhost:8080/"
        },
        "id": "1d2f1aa4-bcbf-47fd-b938-1eb2fd99f772",
        "outputId": "dd50b28b-8cf5-4448-a9cf-c7ed2863d821"
      },
      "outputs": [
        {
          "output_type": "stream",
          "name": "stdout",
          "text": [
            "SEX_is_Male:  9249\n",
            "SEX_is_Female:  14042\n",
            "\n",
            "\n",
            "EDUCATION_is_graduate_school: 8089\n",
            "EDUCATION_is_university:  10994\n",
            "EDUCATION_is_high_school:  3854\n",
            "EDUCATION_is_others:  354\n",
            "\n",
            "\n",
            "MARRIAGE_is_married:  10624\n",
            "MARRIAGE_is_single:  12417\n",
            "MARRIAGE_is_others:  250\n"
          ]
        }
      ],
      "source": [
        "one_hot_cols = []\n",
        "\n",
        "one_hot = pd.get_dummies(read_file['SEX']) #creating one hot representations for all uniques values in a feature vector\n",
        "read_file['SEX_is_Male'] = one_hot[1]\n",
        "read_file['SEX_is_Female'] = one_hot[2]\n",
        "one_hot_cols.append('SEX_is_Male')\n",
        "one_hot_cols.append('SEX_is_Female')\n",
        "print('SEX_is_Male: ', read_file['SEX_is_Male'].sum())\n",
        "print('SEX_is_Female: ', read_file['SEX_is_Female'].sum())\n",
        "print('\\n')\n",
        "\n",
        "one_hot = pd.get_dummies(read_file['EDUCATION'])\n",
        "read_file['EDUCATION_is_graduate_school'] = one_hot[1]\n",
        "read_file['EDUCATION_is_university'] = one_hot[2]\n",
        "read_file['EDUCATION_is_high_school'] = one_hot[3]\n",
        "read_file['EDUCATION_is_others'] = one_hot[4]\n",
        "one_hot_cols.append('EDUCATION_is_graduate_school')\n",
        "one_hot_cols.append('EDUCATION_is_university')\n",
        "one_hot_cols.append('EDUCATION_is_high_school')\n",
        "one_hot_cols.append('EDUCATION_is_others')\n",
        "print('EDUCATION_is_graduate_school:', read_file['EDUCATION_is_graduate_school'].sum())\n",
        "print('EDUCATION_is_university: ', read_file['EDUCATION_is_university'].sum())\n",
        "print('EDUCATION_is_high_school: ', read_file['EDUCATION_is_high_school'].sum())\n",
        "print('EDUCATION_is_others: ', read_file['EDUCATION_is_others'].sum())\n",
        "print('\\n')\n",
        "\n",
        "one_hot = pd.get_dummies(read_file['MARRIAGE'])\n",
        "read_file['MARRIAGE_is_married'] = one_hot[1]\n",
        "read_file['MARRIAGE_is_single'] = one_hot[2]\n",
        "read_file['MARRIAGE_is_others'] = one_hot[3]\n",
        "one_hot_cols.append('MARRIAGE_is_married')\n",
        "one_hot_cols.append('MARRIAGE_is_single')\n",
        "one_hot_cols.append('MARRIAGE_is_others')\n",
        "print('MARRIAGE_is_married: ', read_file['MARRIAGE_is_married'].sum())\n",
        "print('MARRIAGE_is_single: ', read_file['MARRIAGE_is_single'].sum())\n",
        "print('MARRIAGE_is_others: ', read_file['MARRIAGE_is_others'].sum())"
      ]
    },
    {
      "cell_type": "code",
      "execution_count": null,
      "id": "ec7b895a",
      "metadata": {
        "colab": {
          "base_uri": "https://localhost:8080/"
        },
        "id": "ec7b895a",
        "outputId": "3528a095-29b5-4414-e0b0-3f41337a6f13"
      },
      "outputs": [
        {
          "output_type": "stream",
          "name": "stdout",
          "text": [
            "PAY_0_is_0 18293\n",
            "PAY_0_is_1 2482\n",
            "PAY_0_is_2 2139\n",
            "PAY_0_is_3 262\n",
            "PAY_0_is_4 62\n",
            "PAY_0_is_5 20\n",
            "PAY_0_is_6 7\n",
            "PAY_0_is_7 9\n",
            "PAY_0_is_8 17\n",
            "PAY_0_is_9 0\n",
            "\n",
            "\n",
            "PAY_2_is_0 19751\n",
            "PAY_2_is_1 25\n",
            "PAY_2_is_2 3135\n",
            "PAY_2_is_3 261\n",
            "PAY_2_is_4 70\n",
            "PAY_2_is_5 18\n",
            "PAY_2_is_6 12\n",
            "PAY_2_is_7 18\n",
            "PAY_2_is_8 1\n",
            "PAY_2_is_9 0\n",
            "\n",
            "\n",
            "PAY_3_is_0 19906\n",
            "PAY_3_is_1 4\n",
            "PAY_3_is_2 3080\n",
            "PAY_3_is_3 180\n",
            "PAY_3_is_4 58\n",
            "PAY_3_is_5 20\n",
            "PAY_3_is_6 20\n",
            "PAY_3_is_7 20\n",
            "PAY_3_is_8 3\n",
            "PAY_3_is_9 0\n",
            "\n",
            "\n",
            "PAY_4_is_0 20480\n",
            "PAY_4_is_1 2\n",
            "PAY_4_is_2 2536\n",
            "PAY_4_is_3 139\n",
            "PAY_4_is_4 54\n",
            "PAY_4_is_5 28\n",
            "PAY_4_is_6 4\n",
            "PAY_4_is_7 47\n",
            "PAY_4_is_8 1\n",
            "PAY_4_is_9 0\n",
            "\n",
            "\n",
            "PAY_5_is_0 20916\n",
            "PAY_5_is_1 0\n",
            "PAY_5_is_2 2112\n",
            "PAY_5_is_3 129\n",
            "PAY_5_is_4 70\n",
            "PAY_5_is_5 14\n",
            "PAY_5_is_6 3\n",
            "PAY_5_is_7 46\n",
            "PAY_5_is_8 1\n",
            "PAY_5_is_9 0\n",
            "\n",
            "\n",
            "PAY_6_is_0 20810\n",
            "PAY_6_is_1 0\n",
            "PAY_6_is_2 2238\n",
            "PAY_6_is_3 144\n",
            "PAY_6_is_4 38\n",
            "PAY_6_is_5 9\n",
            "PAY_6_is_6 13\n",
            "PAY_6_is_7 38\n",
            "PAY_6_is_8 1\n",
            "PAY_6_is_9 0\n",
            "\n",
            "\n"
          ]
        }
      ],
      "source": [
        "pay_list = ['PAY_0','PAY_2','PAY_3','PAY_4','PAY_5','PAY_6']\n",
        "for j in range(len(pay_list)):\n",
        "    one_hot = pd.get_dummies(read_file[pay_list[j]])\n",
        "    for i in range(10):\n",
        "        if i in one_hot.columns: #checking if i is in the feature vector as a unique value\n",
        "            read_file[pay_list[j] + '_is_'+ str(i)] = one_hot[i]\n",
        "            one_hot_cols.append(pay_list[j] + '_is_'+ str(i))\n",
        "            print(pay_list[j] + '_is_'+ str(i), read_file[pay_list[j] + '_is_'+ str(i)].sum())\n",
        "        else:\n",
        "            read_file[pay_list[j] + '_is_'+ str(i)] = 0\n",
        "            one_hot_cols.append(pay_list[j] + '_is_'+ str(i))\n",
        "            print(pay_list[j] + '_is_'+ str(i), read_file[pay_list[j] + '_is_'+ str(i)].sum())\n",
        "    print('\\n')"
      ]
    },
    {
      "cell_type": "markdown",
      "source": [
        "# Task 5: Classification Experiments"
      ],
      "metadata": {
        "id": "XEp6h1pZASgl"
      },
      "id": "XEp6h1pZASgl"
    },
    {
      "cell_type": "code",
      "execution_count": null,
      "id": "6e631f64-0f95-4364-935d-5dd5278cc2d6",
      "metadata": {
        "id": "6e631f64-0f95-4364-935d-5dd5278cc2d6"
      },
      "outputs": [],
      "source": [
        "from sklearn.tree import DecisionTreeClassifier # Import Decision Tree Classifier\n",
        "from sklearn.model_selection import train_test_split # Import train_test_split function\n",
        "from sklearn import metrics #Import scikit-learn metrics module for accuracy calculation\n",
        "from sklearn.model_selection import cross_validate\n",
        "from sklearn.metrics import confusion_matrix"
      ]
    },
    {
      "cell_type": "markdown",
      "source": [
        "## Task 5(a & b): Decision Tree\n",
        "\n",
        "In this section, we model two decision trees, one with the normalized features and OHE categorical features, and the other with Unnormalized numerical features and OHE categorical features. The following three blocks create respective dataframes, run the decision trees and immediately output the accuracy and the 5-fold cross-validation result.\n",
        "\n",
        "\n",
        "\n",
        "1.   **Confusion matrix**: Helps in visualization of performance of a model, confusion matrix  takes 'True' and 'False' predictions and actual values, and creates a matrix that shows the True positive, True negative, False positive and False negative representation. For cases with more than binary features, each cell contains how close the predicted value is to the actual value in that cell.\n",
        "2.   **Precision**: Precision is defined as the number of correct positive identified values among all the positive identified values. The formula therefore is,\n",
        "\n",
        "  Precision = (True Positives)/(True Positives + False Positives)\n",
        "\n",
        "3. **Recall**: Recall is the measure of how many Positive value predictions were made out of all that could have been made. That is, it also takes into account False negatives, that should have actually been positive.\n",
        "\n",
        "  Recall = (True Positives)/(True Positives + False Negatives)\n",
        "\n",
        "4. **F-measure**: While precision and recall can both be useful, they donot paint a full picture, since they based in two different concepts and set of points. F-measure combines the information into one through the formula,\n",
        "\n",
        "  F-measure = (2* *Precision* *Recall)/(Precision + Recall)\n",
        "\n",
        "5. **Accuracy**: Accuracy is one of the most used and famous metrics in machine learning. It is the measure of how many total correct predictions were made. Thus it takes into account all values that our model predicts. In other sense,\n",
        "\n",
        "  Accuracy = (TP + TN)/(TP + FP + TN + FN)\n",
        "\n",
        "Please note that the normalization scheme used in min-max normalization.\n",
        "\n",
        "The result conclusion paragraph is after the two decision trees."
      ],
      "metadata": {
        "id": "lrlBD5WXAcZ7"
      },
      "id": "lrlBD5WXAcZ7"
    },
    {
      "cell_type": "code",
      "execution_count": null,
      "id": "666f56e9-40ae-42ec-a8fc-28fac0b378e5",
      "metadata": {
        "id": "666f56e9-40ae-42ec-a8fc-28fac0b378e5"
      },
      "outputs": [],
      "source": [
        "#Preparing datasets and target vector for decision tree\n",
        "unnormalized_features = ['LIMIT_BAL','AGE','BILL_AMT1','BILL_AMT2','BILL_AMT3',\n",
        "                         'BILL_AMT4','BILL_AMT5','BILL_AMT6','PAY_AMT1','PAY_AMT2',\n",
        "                         'PAY_AMT3','PAY_AMT4','PAY_AMT5','PAY_AMT6']\n",
        "normalized_features = []\n",
        "for i in range(len(unnormalized_features)):\n",
        "    normalized_features.append((unnormalized_features[i] + '_norm'))\n",
        "\n",
        "unnormalizes_list = unnormalized_features + one_hot_cols\n",
        "normalized_list = normalized_features + one_hot_cols\n",
        "\n",
        "X_unnorm = read_file[unnormalizes_list] #non-normalized values dataset\n",
        "X_norm = read_file[normalized_list] #normalized value dataset\n",
        "Y = read_file['default payment next month'] #Target vector"
      ]
    },
    {
      "cell_type": "code",
      "execution_count": null,
      "id": "e64e4c84-3652-4916-8e2c-e2a31b57a74c",
      "metadata": {
        "colab": {
          "base_uri": "https://localhost:8080/",
          "height": 466
        },
        "id": "e64e4c84-3652-4916-8e2c-e2a31b57a74c",
        "outputId": "5577185a-ba97-49f9-ab26-00e417bb2ce7"
      },
      "outputs": [
        {
          "output_type": "stream",
          "name": "stdout",
          "text": [
            "Results for Normalized features are\n",
            "Accuracy: 0.8113329040566645\n",
            "Precision: [0.62236629 0.62857143 0.63937282 0.64478114 0.60394537] Mean Precision: 0.6278074111840697\n",
            "Recall: [0.37684004 0.38861629 0.36051081 0.3762279  0.39096267] Mean Recall 0.3786315409961228\n",
            "f_measure: [0.46943765 0.48029109 0.46105528 0.4751861  0.47465713] Mean F-measure 0.4721254489476584\n",
            "Confusion matrix: [[3390  240]\n",
            " [ 639  390]]\n"
          ]
        },
        {
          "output_type": "execute_result",
          "data": {
            "text/plain": [
              "<matplotlib.image.AxesImage at 0x7fb89c8cd790>"
            ]
          },
          "metadata": {},
          "execution_count": 200
        },
        {
          "output_type": "display_data",
          "data": {
            "text/plain": [
              "<Figure size 360x360 with 1 Axes>"
            ],
            "image/png": "[encoded data removed]"
          },
          "metadata": {
            "needs_background": "light"
          }
        }
      ],
      "source": [
        "#Decision Tree 1 with normalized numerical features\n",
        "X_train, X_test, y_train, y_test = train_test_split(X_norm, Y, test_size=0.2, random_state=100)\n",
        "\n",
        "# Create Decision Tree classifer object\n",
        "clf = DecisionTreeClassifier(\n",
        "    criterion='entropy',  \n",
        "    max_depth=10\n",
        ")\n",
        "\n",
        "# Train Decision Tree Classifer\n",
        "clf = clf.fit(X_train,y_train)\n",
        "\n",
        "#Predict the response for test dataset\n",
        "y_pred = clf.predict(X_test)\n",
        "\n",
        "scoring = ['precision', 'recall', 'f1']\n",
        "\n",
        "# Model Accuracy, how often is the classifier correct\n",
        "print('Results for Normalized features are')\n",
        "print(\"Accuracy:\",metrics.accuracy_score(y_test, y_pred))\n",
        "cv_results = cross_validate(clf, X_norm, Y, cv=5, scoring = ['precision', 'recall', 'f1'])\n",
        "Precision = cv_results['test_precision']\n",
        "mean_precision = cv_results['test_precision'].mean()\n",
        "Recall = cv_results['test_recall']\n",
        "mean_recall = cv_results['test_recall'].mean()\n",
        "f_measure = cv_results['test_f1']\n",
        "mean_f_measure = cv_results['test_f1'].mean()\n",
        "print('Precision:', Precision,'Mean Precision:', mean_precision)\n",
        "print('Recall:', Recall, 'Mean Recall', mean_recall)\n",
        "print('f_measure:', f_measure,'Mean F-measure', mean_f_measure)\n",
        "print('Confusion matrix:', confusion_matrix(y_test, y_pred))\n",
        "plt.matshow(confusion_matrix(y_test, y_pred))"
      ]
    },
    {
      "cell_type": "code",
      "execution_count": null,
      "id": "fc2d5c01-b285-47dd-8e5f-9cd7f548be88",
      "metadata": {
        "colab": {
          "base_uri": "https://localhost:8080/",
          "height": 466
        },
        "id": "fc2d5c01-b285-47dd-8e5f-9cd7f548be88",
        "outputId": "0866ef62-9348-4ca7-ba24-cedc5b857eb2"
      },
      "outputs": [
        {
          "output_type": "stream",
          "name": "stdout",
          "text": [
            "Results for Unnormalized features are\n",
            "Accuracy: 0.810688989053445\n",
            "Precision: [0.62398703 0.62816456 0.64035088 0.64705882 0.60394537] Mean Precision: 0.6287013326990987\n",
            "Recall: [0.37782139 0.38959764 0.35854617 0.37819253 0.39096267] Mean Recall 0.37902408270367915\n",
            "f_measure: [0.47066015 0.48092065 0.45969773 0.47737136 0.47465713] Mean F-measure 0.47266140347684027\n",
            "Confusion matrix: [[3391  239]\n",
            " [ 643  386]]\n"
          ]
        },
        {
          "output_type": "execute_result",
          "data": {
            "text/plain": [
              "<matplotlib.image.AxesImage at 0x7fb89c81de50>"
            ]
          },
          "metadata": {},
          "execution_count": 199
        },
        {
          "output_type": "display_data",
          "data": {
            "text/plain": [
              "<Figure size 360x360 with 1 Axes>"
            ],
            "image/png": "[encoded data removed]"
          },
          "metadata": {
            "needs_background": "light"
          }
        }
      ],
      "source": [
        "#Decision Tree 1 with unnormalized numerical features\n",
        "X_train, X_test, y_train, y_test = train_test_split(X_unnorm, Y, test_size=0.2, random_state=100)\n",
        "\n",
        "# Create Decision Tree classifer object\n",
        "clf = DecisionTreeClassifier(\n",
        "    criterion='entropy',  \n",
        "    max_depth=10\n",
        ")\n",
        "\n",
        "# Train Decision Tree Classifer\n",
        "clf = clf.fit(X_train,y_train)\n",
        "\n",
        "#Predict the response for test dataset\n",
        "y_pred = clf.predict(X_test)\n",
        "\n",
        "scoring = ['precision', 'recall', 'f1']\n",
        "\n",
        "# Model Accuracy, how often is the classifier correct?\n",
        "print('Results for Unnormalized features are')\n",
        "print(\"Accuracy:\",metrics.accuracy_score(y_test, y_pred))\n",
        "cv_results = cross_validate(clf, X_unnorm, Y, cv=5, scoring = ['precision', 'recall', 'f1'])\n",
        "Precision = cv_results['test_precision']\n",
        "mean_precision = cv_results['test_precision'].mean()\n",
        "Recall = cv_results['test_recall']\n",
        "mean_recall = cv_results['test_recall'].mean()\n",
        "f_measure = cv_results['test_f1']\n",
        "mean_f_measure = cv_results['test_f1'].mean()\n",
        "print('Precision:', Precision,'Mean Precision:', mean_precision)\n",
        "print('Recall:', Recall, 'Mean Recall', mean_recall)\n",
        "print('f_measure:', f_measure,'Mean F-measure', mean_f_measure)\n",
        "print('Confusion matrix:', confusion_matrix(y_test, y_pred))\n",
        "plt.matshow(confusion_matrix(y_test, y_pred))"
      ]
    },
    {
      "cell_type": "markdown",
      "source": [
        "## Task 5(a & b) Results\n",
        "As clear from the Accuracy results, the results are very very close. The accuracy in case of Normalized features is 80.789%, where as for Unnormalized features it is 80.7469%. The same goes for the rest of the metrics.\n",
        "\n",
        "\n",
        "1.   Mean Precision: 60.92 vs 61.00\n",
        "2.   Mean Recall: 37.13 vs 36.68\n",
        "3.   Mean F-measure: 46 vs 45.77\n",
        "\n",
        "Thus normalization, for depth = 10 has a very small effect for this case of classification. The confusion matrices have also been displayed and plotted. \n",
        "\n",
        "In conclusion, The Decision Tree classifier is able to correctly classify the test data values almost 81% of the time. However, normalization doesn't seem to have a major effect at this stage. We could let the tree keep branching until only pure leaves are left. But all the metrics too show that the difference is very slight. Normalization does show relatively stronger effect on recall and f-measure. But it isn't significant enough to clearly choose one over the other. \n",
        "\n"
      ],
      "metadata": {
        "id": "Y4HgyXVsDwgF"
      },
      "id": "Y4HgyXVsDwgF"
    },
    {
      "cell_type": "markdown",
      "source": [
        "# Task 6"
      ],
      "metadata": {
        "id": "ZAy7AyVEFb4x"
      },
      "id": "ZAy7AyVEFb4x"
    },
    {
      "cell_type": "markdown",
      "source": [
        "## Task 6(a): Why do we perform Feature Selection?\n",
        "\n",
        "In larger projects and datasets, we may have hundreds if not thousands of features.\n",
        "\n",
        "\n",
        "1.   Not every features is useful for our classification task. Hence it is useful to just filter through and find most useful features.\n",
        "2.   Lesser features means less computing for the machine, hence more computing power for the code. Thus, we make performance better and decrease time for training. \n",
        "3. Some features may be very noisy or uncorrelated with our data. Ignoring such features can actually help increase the accuracy of our model.\n",
        "\n"
      ],
      "metadata": {
        "id": "tu2KxewvFeAe"
      },
      "id": "tu2KxewvFeAe"
    },
    {
      "cell_type": "markdown",
      "source": [
        "## Task 6(b): Feature Selection\n",
        "\n",
        "We now perform feature selection on our numerical and categorical features. We have already performed chi square test and mutual information on the features in Task 3. We can now choose top k features from the sorted lists and use them for training decision trees. \n",
        "\n",
        "Please note that the partial dataset generation and training and testing on it are all performed in Task 6c."
      ],
      "metadata": {
        "id": "h3DxFfbaHGMG"
      },
      "id": "h3DxFfbaHGMG"
    },
    {
      "cell_type": "code",
      "execution_count": null,
      "id": "7a4a41d0-3a85-4735-b6f3-cd8d11bbee88",
      "metadata": {
        "colab": {
          "base_uri": "https://localhost:8080/"
        },
        "id": "7a4a41d0-3a85-4735-b6f3-cd8d11bbee88",
        "outputId": "cdd51743-cbb2-450e-a780-951d8ce9e505"
      },
      "outputs": [
        {
          "output_type": "stream",
          "name": "stdout",
          "text": [
            "Top 1 features are,\n",
            "Numeric: Index(['PAY_AMT1'], dtype='object')\n",
            "Categorical: Index(['PAY_0'], dtype='object')\n",
            "\n",
            "\n",
            "Top 3 features are,\n",
            "Numeric: Index(['PAY_AMT1', 'LIMIT_BAL', 'PAY_AMT2'], dtype='object')\n",
            "Categorical: Index(['PAY_0', 'PAY_2', 'PAY_3'], dtype='object')\n",
            "\n",
            "\n",
            "Top 5 features are,\n",
            "Numeric: Index(['PAY_AMT1', 'LIMIT_BAL', 'PAY_AMT2', 'PAY_AMT3', 'PAY_AMT6'], dtype='object')\n",
            "Categorical: Index(['PAY_0', 'PAY_2', 'PAY_3', 'PAY_5', 'PAY_4'], dtype='object')\n",
            "\n",
            "\n"
          ]
        }
      ],
      "source": [
        "#Selecting top features for feature selection\n",
        "k = [1,3,5]\n",
        "\n",
        "for i in k:\n",
        "    print('Top', i, 'features are,')\n",
        "    k_numeric = result.nlargest(n=i, keep='first')\n",
        "    print('Numeric:', k_numeric.index)\n",
        "    k_categorical = chi_score2.nlargest(n=i, keep='first')\n",
        "    print('Categorical:', k_categorical.index)\n",
        "    print('\\n')"
      ]
    },
    {
      "cell_type": "markdown",
      "source": [
        "## Task 6(c): Decision Tree in top features\n",
        "\n",
        "In this final section, we perform decision tree classification on top k features, k taking values from k = [1,3,5]. We create partial datasets based on the selected features and pass them through the Decision Tree Classifier to get all the 5-fold results. \n",
        "\n",
        "The summary of the results is mentioned at the end."
      ],
      "metadata": {
        "id": "jWPUu_ZDIYQV"
      },
      "id": "jWPUu_ZDIYQV"
    },
    {
      "cell_type": "code",
      "execution_count": null,
      "id": "b2fb0a0f-c8e9-4d7f-bddc-2e986a145c55",
      "metadata": {
        "colab": {
          "base_uri": "https://localhost:8080/"
        },
        "id": "b2fb0a0f-c8e9-4d7f-bddc-2e986a145c55",
        "outputId": "a463a53a-5161-4a10-fc3f-f430daa608b2"
      },
      "outputs": [
        {
          "output_type": "stream",
          "name": "stdout",
          "text": [
            "Top 1 features are,\n",
            "Numeric: Index(['PAY_AMT1'], dtype='object')\n",
            "Categorical: Index(['PAY_0'], dtype='object') \n",
            "\n",
            "Results for top 1 Normalized features are\n",
            "Accuracy: 0.8190598840952994\n",
            "Precision: [0.66600398 0.68944099 0.67976424 0.68809074 0.67184466] Mean Precision: 0.6790289221962285\n",
            "Recall: [0.32875368 0.32679097 0.33988212 0.35756385 0.33988212] Mean Recall 0.33857454918435775\n",
            "f_measure: [0.44021025 0.44340879 0.45317616 0.47058824 0.45140248] Mean F-measure 0.45175718289151734\n",
            "Confusion matrix: [[3474  156]\n",
            " [ 687  342]]\n",
            "Results for top 1 Unnormalized features are\n",
            "Accuracy: 0.8190598840952994\n",
            "Precision: [0.66600398 0.68944099 0.67976424 0.68809074 0.67184466] Mean Precision: 0.6790289221962285\n",
            "Recall: [0.32875368 0.32679097 0.33988212 0.35756385 0.33988212] Mean Recall 0.33857454918435775\n",
            "f_measure: [0.44021025 0.44340879 0.45317616 0.47058824 0.45140248] Mean F-measure 0.45175718289151734\n",
            "Confusion matrix: [[3474  156]\n",
            " [ 687  342]] \n",
            "\n",
            "Top 3 features are,\n",
            "Numeric: Index(['PAY_AMT1', 'LIMIT_BAL', 'PAY_AMT2'], dtype='object')\n",
            "Categorical: Index(['PAY_0', 'PAY_2', 'PAY_3'], dtype='object') \n",
            "\n",
            "Results for top 3 Normalized features are\n",
            "Accuracy: 0.8132646490663232\n",
            "Precision: [0.64401294 0.63111888 0.62735043 0.62368816 0.62986003] Mean Precision: 0.6312060880958731\n",
            "Recall: [0.390579   0.35426889 0.36051081 0.4086444  0.3978389 ] Mean Recall 0.382368399235739\n",
            "f_measure: [0.48625535 0.45380264 0.45789145 0.49376855 0.48765804] Mean F-measure 0.475875204367665\n",
            "Confusion matrix: [[3414  216]\n",
            " [ 654  375]]\n",
            "Results for top 3 Unnormalized features are\n",
            "Accuracy: 0.8143378407383559\n",
            "Precision: [0.64458805 0.63093146 0.63541667 0.62745098 0.62830482] Mean Precision: 0.63333839442868\n",
            "Recall: [0.39156035 0.35230618 0.35952849 0.4086444  0.39685658] Mean Recall 0.38177920107351293\n",
            "f_measure: [0.48717949 0.45214106 0.45922208 0.49494349 0.48645394] Mean F-measure 0.47598801147046943\n",
            "Confusion matrix: [[3417  213]\n",
            " [ 652  377]] \n",
            "\n",
            "Top 5 features are,\n",
            "Numeric: Index(['PAY_AMT1', 'LIMIT_BAL', 'PAY_AMT2', 'PAY_AMT3', 'PAY_AMT6'], dtype='object')\n",
            "Categorical: Index(['PAY_0', 'PAY_2', 'PAY_3', 'PAY_5', 'PAY_4'], dtype='object') \n",
            "\n",
            "Results for top 5 Normalized features are\n",
            "Accuracy: 0.8109036273878515\n",
            "Precision: [0.62258065 0.63166144 0.64098074 0.64548495 0.60660661] Mean Precision: 0.6294628758317212\n",
            "Recall: [0.37880275 0.39548577 0.35952849 0.37917485 0.39685658] Mean Recall 0.38196968791391844\n",
            "f_measure: [0.47101891 0.48642124 0.46066709 0.47772277 0.47980998] Mean F-measure 0.47512799838491226\n",
            "Confusion matrix: [[3392  238]\n",
            " [ 643  386]]\n",
            "Results for top 5 Unnormalized features are\n",
            "Accuracy: 0.811118265722258\n",
            "Precision: [0.61501597 0.63100775 0.64273205 0.64705882 0.60482655] Mean Precision: 0.6281282289896171\n",
            "Recall: [0.37782139 0.39941119 0.36051081 0.37819253 0.39390963] Mean Recall 0.3819691095125812\n",
            "f_measure: [0.46808511 0.48918269 0.46192574 0.47737136 0.47709697] Mean F-measure 0.4747323723919198\n",
            "Confusion matrix: [[3393  237]\n",
            " [ 643  386]] \n",
            "\n"
          ]
        }
      ],
      "source": [
        "k = [1,3,5]\n",
        "for i in k:\n",
        "    idx = [i for i in range(2*i)]\n",
        "    print('Top', i, 'features are,')\n",
        "    k_numeric = result.nlargest(n=i, keep='first') #Top k numeric\n",
        "    print('Numeric:', k_numeric.index)\n",
        "    k_categorical = chi_score2.nlargest(n=i, keep='first') #Top k categorical\n",
        "    print('Categorical:', k_categorical.index, '\\n')\n",
        "    unnormalized_features = []\n",
        "    numeric = pd.DataFrame(k_numeric.index, columns =['features'])\n",
        "    categoric = pd.DataFrame(k_categorical.index, columns =['features'])\n",
        "    OHE = pd.DataFrame()\n",
        "    #Preparing dataset with top K One hot encoded categorical features\n",
        "    for category in categoric['features']:\n",
        "        values = read_file[category].unique()\n",
        "        values = np.sort(values)\n",
        "        for value in values:\n",
        "            ohe_data = category + '_is_' + str(value)\n",
        "            OHE[ohe_data] = np.where(read_file[category]== value,1,0)\n",
        "    #Preparing dataset with top K norm and non-norm numerical features\n",
        "    num_features = pd.DataFrame()\n",
        "    num_norm_features = pd.DataFrame()\n",
        "    for num in numeric['features']:\n",
        "        norm_data = num + '_norm'\n",
        "        num_features[num] = read_file[num]\n",
        "        num_norm_features[num] = read_file[norm_data]\n",
        "            \n",
        "    \n",
        "    X_unnorm = pd.concat([OHE, num_features], axis = 1)\n",
        "    X_norm = pd.concat([ OHE, num_norm_features], axis = 1)\n",
        "    Y = read_file['default payment next month']\n",
        "    \n",
        "    print('Results for top', i, 'Normalized features are')\n",
        "    \n",
        "    #Decision Tree 1 with normalized numerical features\n",
        "    X_train, X_test, y_train, y_test = train_test_split(X_norm, Y, test_size=0.2, random_state=100)\n",
        "    \n",
        "    # Create Decision Tree classifer object\n",
        "    clf = DecisionTreeClassifier(\n",
        "    criterion='entropy',  \n",
        "    max_depth=10\n",
        "    )\n",
        "\n",
        "    # Train Decision Tree Classifer\n",
        "    clf = clf.fit(X_train,y_train)\n",
        "\n",
        "    #Predict the response for test dataset\n",
        "    y_pred = clf.predict(X_test)\n",
        "\n",
        "    scoring = ['precision', 'recall', 'f1']\n",
        "\n",
        "    # Model Accuracy, how often is the classifier correct?\n",
        "    print(\"Accuracy:\",metrics.accuracy_score(y_test, y_pred))\n",
        "    cv_results = cross_validate(clf, X_norm, Y, cv=5, scoring = ['precision', 'recall', 'f1'])\n",
        "    Precision = cv_results['test_precision']\n",
        "    mean_precision = cv_results['test_precision'].mean()\n",
        "    Recall = cv_results['test_recall']\n",
        "    mean_recall = cv_results['test_recall'].mean()\n",
        "    f_measure = cv_results['test_f1']\n",
        "    mean_f_measure = cv_results['test_f1'].mean()\n",
        "    print('Precision:', Precision,'Mean Precision:', mean_precision)\n",
        "    print('Recall:', Recall, 'Mean Recall', mean_recall)\n",
        "    print('f_measure:', f_measure,'Mean F-measure', mean_f_measure)\n",
        "    print('Confusion matrix:', confusion_matrix(y_test, y_pred))\n",
        "    \n",
        "    print('Results for top', i, 'Unnormalized features are')\n",
        "    \n",
        "    #Decision Tree 1 with unnormalized numerical features\n",
        "    X_train, X_test, y_train, y_test = train_test_split(X_unnorm, Y, test_size=0.2, random_state=100)\n",
        "\n",
        "    # Create Decision Tree classifer object\n",
        "    clf = DecisionTreeClassifier(\n",
        "        criterion='entropy',  \n",
        "        max_depth=10\n",
        "    )\n",
        "\n",
        "    # Train Decision Tree Classifer\n",
        "    clf = clf.fit(X_train,y_train)\n",
        "\n",
        "    #Predict the response for test dataset\n",
        "    y_pred = clf.predict(X_test)\n",
        "\n",
        "    scoring = ['precision', 'recall', 'f1']\n",
        "\n",
        "    # Model Accuracy, how often is the classifier correct?\n",
        "    print(\"Accuracy:\",metrics.accuracy_score(y_test, y_pred))\n",
        "    cv_results = cross_validate(clf, X_unnorm, Y, cv=5, scoring = ['precision', 'recall', 'f1'])\n",
        "    Precision = cv_results['test_precision']\n",
        "    mean_precision = cv_results['test_precision'].mean()\n",
        "    Recall = cv_results['test_recall']\n",
        "    mean_recall = cv_results['test_recall'].mean()\n",
        "    f_measure = cv_results['test_f1']\n",
        "    mean_f_measure = cv_results['test_f1'].mean()\n",
        "    print('Precision:', Precision,'Mean Precision:', mean_precision)\n",
        "    print('Recall:', Recall, 'Mean Recall', mean_recall)\n",
        "    print('f_measure:', f_measure,'Mean F-measure', mean_f_measure)\n",
        "    print('Confusion matrix:', confusion_matrix(y_test, y_pred), '\\n')"
      ]
    },
    {
      "cell_type": "markdown",
      "source": [
        "Summary of Results.\n",
        "The following are the results: \n",
        "\n",
        "Metric | K=1(norm) | K=1(unnorm)  | K=3(norm)  | K=3(unnorm) | K=5(norm)  | K=5(unnorm)\n",
        "-------|------------------|---------------------|------------------|---------------------|------------------|---------------------|\n",
        "Accuracy | 81.90 | 81.90 | 81.32 | 81.43 | 81.09| 81.11\n",
        "Mean Precision | 67.90 | 67.90 | 63.21 | 62.99 | 62.88 | 62.94\n",
        "Mean Recall | 33.85 | 33.85 | 38.23 | 38.17| 38.19| 38.19\n",
        "Mean F-measure | 45.17| 45.17| 47.58| 47.60 | 47.51 | 47.47\n",
        "\n",
        "As we can see, for K=1, the values remain exactly the same, meanining for one feature the normalization has no difference. However, as we go on adding more and more features, the difference between normalized and unnormalized values in all four metrics starts to increase. \n",
        "\n",
        "The metric values actually show us an interesting trend. The mean recall and mean f-measure is higher for K=3 features. Meaning, in some sense, K=3 might be the most optimal number of features for our dataset. Of course, more options can be explored, but in these 3 values, it would seem K=3 is the most optimal number of features.\n",
        "\n",
        "\n"
      ],
      "metadata": {
        "id": "JNyUoglUJ2pC"
      },
      "id": "JNyUoglUJ2pC"
    }
  ],
  "metadata": {
    "kernelspec": {
      "display_name": "Python 3",
      "language": "python",
      "name": "python3"
    },
    "language_info": {
      "codemirror_mode": {
        "name": "ipython",
        "version": 3
      },
      "file_extension": ".py",
      "mimetype": "text/x-python",
      "name": "python",
      "nbconvert_exporter": "python",
      "pygments_lexer": "ipython3",
      "version": "3.9.12"
    },
    "colab": {
      "provenance": [],
      "collapsed_sections": [],
      "toc_visible": true
    }
  },
  "nbformat": 4,
  "nbformat_minor": 5
}